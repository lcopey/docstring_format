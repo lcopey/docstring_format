{
 "cells": [
  {
   "cell_type": "code",
   "execution_count": 1,
   "id": "12b7c880-5350-45ec-a474-e6677c6212dd",
   "metadata": {},
   "outputs": [],
   "source": [
    "%load_ext autoreload\n",
    "%autoreload 2\n",
    "\n",
    "import ast\n",
    "from pathlib import Path\n",
    "from pprint import pprint\n",
    "from docstring_format import *"
   ]
  },
  {
   "cell_type": "code",
   "execution_count": 13,
   "id": "d71bef59-81bb-4684-8a35-37ce86385bc4",
   "metadata": {},
   "outputs": [],
   "source": [
    "# file = Path('equation_parser/functions.py')\n",
    "file = Path('./tests/dummy_tests_functions.py')\n",
    "\n",
    "raw_text = file.read_text()\n",
    "dirty_lines = raw_text.splitlines()\n",
    "tree = ast.parse(raw_text)\n",
    "\n",
    "classes = [item for item in tree.body if isinstance(item, ast.ClassDef)]\n",
    "\n",
    "class_methods = [func for item in classes for func in item.body if isinstance(func, ast.FunctionDef)]\n",
    "\n",
    "functions = [item for item in tree.body if isinstance(item, ast.FunctionDef)]"
   ]
  },
  {
   "cell_type": "code",
   "execution_count": 8,
   "id": "4404a33f-08cb-4534-9188-f0dd4a438610",
   "metadata": {},
   "outputs": [],
   "source": [
    "func = functions[0]"
   ]
  },
  {
   "cell_type": "code",
   "execution_count": 9,
   "id": "e3d0bc18-a8a1-48f1-9ae9-1cad44f2ac6f",
   "metadata": {},
   "outputs": [
    {
     "data": {
      "text/plain": [
       "['    \"\"\"',\n",
       " '    AZrojrltndflg lejkkjntgdf',\n",
       " '',\n",
       " '    Parameters',\n",
       " '    ----------',\n",
       " '    arg1 (str):',\n",
       " '',\n",
       " '    Returns',\n",
       " '    -------',\n",
       " '',\n",
       " '    \"\"\"']"
      ]
     },
     "execution_count": 9,
     "metadata": {},
     "output_type": "execute_result"
    }
   ],
   "source": [
    "annotate_function(func, dirty_lines).splitlines()"
   ]
  },
  {
   "cell_type": "markdown",
   "id": "0dead519-a3d6-4bd9-9d09-8f7691362432",
   "metadata": {},
   "source": [
    "# Unittests"
   ]
  },
  {
   "cell_type": "code",
   "execution_count": 169,
   "id": "3eef5f21-c88b-4a5d-8c25-074acf0fd928",
   "metadata": {
    "tags": []
   },
   "outputs": [],
   "source": [
    "from docstring_format.base import *\n",
    "import json"
   ]
  },
  {
   "cell_type": "code",
   "execution_count": 173,
   "id": "9946bb46-4139-49e8-b1ca-09fb69118a64",
   "metadata": {},
   "outputs": [],
   "source": [
    "file = Path('./tests/dummy_tests_functions.py')\n",
    "\n",
    "raw_text = file.read_text()\n",
    "dirty_lines = raw_text.splitlines()\n",
    "tree = ast.parse(raw_text)\n",
    "\n",
    "classes = [item for item in tree.body if isinstance(item, ast.ClassDef)]\n",
    "class_methods = [func for item in classes for func in item.body if isinstance(func, ast.FunctionDef)]\n",
    "\n",
    "functions = [item for item in tree.body if isinstance(item, ast.FunctionDef)]\n",
    "\n",
    "results = {}\n",
    "for func in functions:\n",
    "    start, length = get_docstring_lines(func, dirty_lines)\n",
    "    results[func.name] = dict(zip(('start', 'length'), (start, length)))\n",
    "    \n",
    "    docstring = '\\n'.join(dirty_lines[start:start+length])\n",
    "    results[func.name]['sections'] = get_docstring_sections(docstring).to_dict()\n",
    "    \n",
    "    results[func.name]['docstring'] = annotate_function(func, dirty_lines)"
   ]
  },
  {
   "cell_type": "code",
   "execution_count": 174,
   "id": "fd57d6a9-4256-496e-adc3-34673a8ab10d",
   "metadata": {},
   "outputs": [
    {
     "name": "stdout",
     "output_type": "stream",
     "text": [
      "['    \"\"\"',\n",
      " '    AZrojrltndflg lejkkjntgdf',\n",
      " '',\n",
      " '    Parameters',\n",
      " '    ----------',\n",
      " '    arg1: test',\n",
      " '',\n",
      " '    Returns',\n",
      " '    -------',\n",
      " '',\n",
      " '    \"\"\"']\n",
      "\n",
      "['    \"\"\"A function doing something',\n",
      " '',\n",
      " '',\n",
      " '    Second paragraph.',\n",
      " '    ',\n",
      " '    Third paragraph',\n",
      " '    Parameters',\n",
      " '    ----------',\n",
      " '    arg1 (list): This does something',\n",
      " '',\n",
      " '    \"\"\"']\n",
      "\n",
      "['    \"\"\"',\n",
      " '',\n",
      " '    Parameters',\n",
      " '    ----------',\n",
      " '    arg1',\n",
      " '',\n",
      " '    Returns',\n",
      " '    -------',\n",
      " '',\n",
      " '    \"\"\"']\n",
      "\n",
      "['    \"\"\"',\n",
      " '',\n",
      " '    Parameters',\n",
      " '    ----------',\n",
      " '    arg1: this does that',\n",
      " '',\n",
      " '    Returns',\n",
      " '    -------',\n",
      " '',\n",
      " '    \"\"\"']\n",
      "\n",
      "['    \"\"\"Compute the difference of values with respect to ref_id.',\n",
      " '',\n",
      " '    Parameters',\n",
      " '    ----------',\n",
      " '    values: values to compute from',\n",
      " '    ref_id: delta values are computed with respect to that reference. It '\n",
      " 'should be valid index or a list of valid',\n",
      " '     index from values.',\n",
      " '    -------',\n",
      " '',\n",
      " '    \"\"\"']\n",
      "\n"
     ]
    }
   ],
   "source": [
    "for func in functions:\n",
    "    start, length = get_docstring_lines(func, dirty_lines)\n",
    "    pprint(dirty_lines[start:start+length])\n",
    "    print()"
   ]
  },
  {
   "cell_type": "code",
   "execution_count": 175,
   "id": "045ed164-0fa0-40ef-b438-31314d30abfc",
   "metadata": {},
   "outputs": [],
   "source": [
    "with open('./tests/dummy_results.json', mode='w') as f:\n",
    "    json.dump(results, f, indent=4)"
   ]
  },
  {
   "cell_type": "markdown",
   "id": "bda988f9-37f6-46f2-baa4-e30d7378220a",
   "metadata": {},
   "source": [
    "# Dev "
   ]
  },
  {
   "cell_type": "code",
   "execution_count": 22,
   "id": "30790463-d8c0-4d6a-808d-1b28caca246c",
   "metadata": {},
   "outputs": [],
   "source": [
    "from docstring_format.base import *\n",
    "from docstring_format.constants import *\n",
    "import json"
   ]
  },
  {
   "cell_type": "code",
   "execution_count": 199,
   "id": "40d939b9-ab00-41c7-80fa-80499606905b",
   "metadata": {},
   "outputs": [],
   "source": [
    "file = Path('equation_parser/constants.py')\n",
    "# file = Path('./tests/dummy_tests_functions.py')\n",
    "\n",
    "raw_text = file.read_text()\n",
    "dirty_lines = raw_text.splitlines()\n",
    "tree = ast.parse(raw_text)\n",
    "\n",
    "classes = [item for item in tree.body if isinstance(item, ast.ClassDef)]\n",
    "\n",
    "class_methods = [func for item in classes for func in item.body if isinstance(func, ast.FunctionDef)]\n",
    "\n",
    "functions = [item for item in tree.body if isinstance(item, ast.FunctionDef)]"
   ]
  },
  {
   "cell_type": "code",
   "execution_count": 201,
   "id": "5239341b-dcb3-45ba-a59a-47bafa95282c",
   "metadata": {},
   "outputs": [
    {
     "ename": "IndexError",
     "evalue": "list index out of range",
     "output_type": "error",
     "traceback": [
      "\u001b[1;31m---------------------------------------------------------------------------\u001b[0m",
      "\u001b[1;31mIndexError\u001b[0m                                Traceback (most recent call last)",
      "Cell \u001b[1;32mIn [201], line 1\u001b[0m\n\u001b[1;32m----> 1\u001b[0m func \u001b[38;5;241m=\u001b[39m \u001b[43mfunctions\u001b[49m\u001b[43m[\u001b[49m\u001b[38;5;241;43m0\u001b[39;49m\u001b[43m]\u001b[49m\n\u001b[0;32m      3\u001b[0m docstring \u001b[38;5;241m=\u001b[39m get_docstring(func, dirty_lines)\n\u001b[0;32m      5\u001b[0m pprint(docstring\u001b[38;5;241m.\u001b[39msplitlines())\n",
      "\u001b[1;31mIndexError\u001b[0m: list index out of range"
     ]
    }
   ],
   "source": [
    "func = functions[0]\n",
    "\n",
    "docstring = get_docstring(func, dirty_lines)\n",
    "\n",
    "pprint(docstring.splitlines())\n",
    "\n",
    "pprint(annotate_function(func, dirty_lines).splitlines())"
   ]
  },
  {
   "cell_type": "code",
   "execution_count": null,
   "id": "b91d2e4e-d9d2-46fb-8f5e-355a88ff8c3e",
   "metadata": {},
   "outputs": [],
   "source": []
  }
 ],
 "metadata": {
  "kernelspec": {
   "display_name": "Python 3 (ipykernel)",
   "language": "python",
   "name": "python3"
  },
  "language_info": {
   "codemirror_mode": {
    "name": "ipython",
    "version": 3
   },
   "file_extension": ".py",
   "mimetype": "text/x-python",
   "name": "python",
   "nbconvert_exporter": "python",
   "pygments_lexer": "ipython3",
   "version": "3.10.6"
  }
 },
 "nbformat": 4,
 "nbformat_minor": 5
}
