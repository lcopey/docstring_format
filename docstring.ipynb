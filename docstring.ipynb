{
 "cells": [
  {
   "cell_type": "code",
   "execution_count": 1,
   "id": "81905b87",
   "metadata": {},
   "outputs": [],
   "source": [
    "import ast\n",
    "import inspect\n",
    "from pathlib import Path"
   ]
  },
  {
   "cell_type": "code",
   "execution_count": 2,
   "id": "931a007c",
   "metadata": {},
   "outputs": [],
   "source": [
    "file = Path('equation_parser/from_ast.py')\n",
    "\n",
    "raw_tree = file.read_text()"
   ]
  },
  {
   "cell_type": "code",
   "execution_count": 3,
   "id": "bf1fd711",
   "metadata": {},
   "outputs": [],
   "source": [
    "tree = ast.parse(raw_tree)"
   ]
  },
  {
   "cell_type": "code",
   "execution_count": 4,
   "id": "439bf16f",
   "metadata": {},
   "outputs": [],
   "source": [
    "functions = [item for item in tree.body if isinstance(item, ast.FunctionDef)]"
   ]
  },
  {
   "cell_type": "code",
   "execution_count": 5,
   "id": "7c6e0007",
   "metadata": {},
   "outputs": [],
   "source": [
    "func = functions[0]"
   ]
  },
  {
   "cell_type": "code",
   "execution_count": 6,
   "id": "76412f58",
   "metadata": {},
   "outputs": [
    {
     "data": {
      "text/plain": [
       "\"FunctionDef(name='eval_node', args=arguments(args=[arg(arg='ast_node', annotation=Subscript(value=Name(id='Union', ctx=Load()), slice=Index(value=Tuple(elts=[Attribute(value=Name(id='ast', ctx=Load()), attr='Constant', ctx=Load()), Attribute(value=Name(id='ast', ctx=Load()), attr='Name', ctx=Load()), Attribute(value=Name(id='ast', ctx=Load()), attr='BinOp', ctx=Load()), Attribute(value=Name(id='ast', ctx=Load()), attr='UnaryOp', ctx=Load())], ctx=Load())), ctx=Load()))], vararg=None, kwonlyargs=[], kw_defaults=[], kwarg=None, defaults=[]), body=[Expr(value=Str(s='Evaluate and dispatch to one of eval method depending on the type of ast_node')), Assign(targets=[Name(id='log', ctx=Store())], value=Call(func=Attribute(value=Name(id='logger', ctx=Load()), attr='bind', ctx=Load()), args=[], keywords=[keyword(arg='func', value=Str(s='eval node'))])), Expr(value=Call(func=Attribute(value=Name(id='log', ctx=Load()), attr='debug', ctx=Load()), args=[Name(id='ast_node', ctx=Load())], keywords=[])), Assign(targets=[Name(id='func', ctx=Store())], value=Subscript(value=Name(id='AST_EVALUATORS', ctx=Load()), slice=Index(value=Call(func=Name(id='type', ctx=Load()), args=[Name(id='ast_node', ctx=Load())], keywords=[])), ctx=Load())), Return(value=Call(func=Name(id='func', ctx=Load()), args=[Name(id='ast_node', ctx=Load())], keywords=[]))], decorator_list=[], returns=Name(id='Node', ctx=Load()))\""
      ]
     },
     "execution_count": 6,
     "metadata": {},
     "output_type": "execute_result"
    }
   ],
   "source": [
    "ast.dump(func)"
   ]
  },
  {
   "cell_type": "code",
   "execution_count": 7,
   "id": "270ae592",
   "metadata": {},
   "outputs": [
    {
     "data": {
      "text/plain": [
       "'Evaluate and dispatch to one of eval method depending on the type of ast_node'"
      ]
     },
     "execution_count": 7,
     "metadata": {},
     "output_type": "execute_result"
    }
   ],
   "source": [
    "ast.get_docstring(func)"
   ]
  },
  {
   "cell_type": "code",
   "execution_count": 8,
   "id": "c022c46e",
   "metadata": {},
   "outputs": [],
   "source": [
    "import importlib\n",
    "import inspect"
   ]
  },
  {
   "cell_type": "code",
   "execution_count": 19,
   "id": "66b9a345",
   "metadata": {},
   "outputs": [],
   "source": [
    "module_name = str(file).replace('\\\\', '.').replace('.py', '')"
   ]
  },
  {
   "cell_type": "code",
   "execution_count": 20,
   "id": "995ca8ff",
   "metadata": {},
   "outputs": [],
   "source": [
    "module = importlib.import_module(module_name)"
   ]
  },
  {
   "cell_type": "code",
   "execution_count": 21,
   "id": "5ddf3821",
   "metadata": {},
   "outputs": [],
   "source": [
    "signature = inspect.signature(getattr(module, func.name))"
   ]
  },
  {
   "cell_type": "code",
   "execution_count": 26,
   "id": "54ba96c8",
   "metadata": {},
   "outputs": [
    {
     "name": "stdout",
     "output_type": "stream",
     "text": [
      "('ast_node', <Parameter \"ast_node:Union[_ast.Constant, _ast.Name, _ast.BinOp, _ast.UnaryOp]\">)\n"
     ]
    }
   ],
   "source": [
    "for param_name, param_type in signature.parameters.items():\n",
    "    print(item)"
   ]
  },
  {
   "cell_type": "code",
   "execution_count": 39,
   "id": "dddd26d2",
   "metadata": {},
   "outputs": [
    {
     "data": {
      "text/plain": [
       "typing.Union[_ast.Constant, _ast.Name, _ast.BinOp, _ast.UnaryOp]"
      ]
     },
     "execution_count": 39,
     "metadata": {},
     "output_type": "execute_result"
    }
   ],
   "source": [
    "param_type.annotation"
   ]
  },
  {
   "cell_type": "code",
   "execution_count": 45,
   "id": "409ab328",
   "metadata": {},
   "outputs": [
    {
     "data": {
      "text/plain": [
       "\"arguments(args=[arg(arg='ast_node', annotation=Subscript(value=Name(id='Union', ctx=Load()), slice=Index(value=Tuple(elts=[Attribute(value=Name(id='ast', ctx=Load()), attr='Constant', ctx=Load()), Attribute(value=Name(id='ast', ctx=Load()), attr='Name', ctx=Load()), Attribute(value=Name(id='ast', ctx=Load()), attr='BinOp', ctx=Load()), Attribute(value=Name(id='ast', ctx=Load()), attr='UnaryOp', ctx=Load())], ctx=Load())), ctx=Load()))], vararg=None, kwonlyargs=[], kw_defaults=[], kwarg=None, defaults=[])\""
      ]
     },
     "execution_count": 45,
     "metadata": {},
     "output_type": "execute_result"
    }
   ],
   "source": [
    "ast.dump(func.args)"
   ]
  }
 ],
 "metadata": {
  "hide_input": false,
  "kernelspec": {
   "display_name": "Python 3",
   "language": "python",
   "name": "python3"
  },
  "language_info": {
   "codemirror_mode": {
    "name": "ipython",
    "version": 3
   },
   "file_extension": ".py",
   "mimetype": "text/x-python",
   "name": "python",
   "nbconvert_exporter": "python",
   "pygments_lexer": "ipython3",
   "version": "3.6.13"
  },
  "toc": {
   "base_numbering": 1,
   "nav_menu": {},
   "number_sections": true,
   "sideBar": true,
   "skip_h1_title": false,
   "title_cell": "Table of Contents",
   "title_sidebar": "Contents",
   "toc_cell": false,
   "toc_position": {},
   "toc_section_display": true,
   "toc_window_display": false
  }
 },
 "nbformat": 4,
 "nbformat_minor": 5
}
