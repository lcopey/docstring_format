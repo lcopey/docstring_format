{
 "cells": [
  {
   "cell_type": "code",
   "execution_count": 1,
   "id": "12b7c880-5350-45ec-a474-e6677c6212dd",
   "metadata": {},
   "outputs": [],
   "source": [
    "%load_ext autoreload\n",
    "%autoreload 2\n",
    "\n",
    "import ast\n",
    "from pathlib import Path\n",
    "from pprint import pprint\n",
    "from docstring_format import *"
   ]
  },
  {
   "cell_type": "code",
   "execution_count": 29,
   "id": "b28a1901-6b89-4918-bf63-2e9397ba79e7",
   "metadata": {},
   "outputs": [],
   "source": [
    "file = Path('equation_parser/functions.py')\n",
    "# file = Path('tests_functions.py')\n",
    "\n",
    "raw_text = file.read_text()\n",
    "dirty_lines = raw_text.splitlines()\n",
    "tree = ast.parse(raw_text)"
   ]
  },
  {
   "cell_type": "code",
   "execution_count": 30,
   "id": "18c92223-b8ce-4ccd-b09b-4ad4a7a4b63e",
   "metadata": {},
   "outputs": [],
   "source": [
    "classes = [item for item in tree.body if isinstance(item, ast.ClassDef)]\n",
    "\n",
    "class_methods = [func for item in classes for func in item.body if isinstance(func, ast.FunctionDef)]\n",
    "\n",
    "functions = [item for item in tree.body if isinstance(item, ast.FunctionDef)]"
   ]
  },
  {
   "cell_type": "code",
   "execution_count": 33,
   "id": "4404a33f-08cb-4534-9188-f0dd4a438610",
   "metadata": {},
   "outputs": [],
   "source": [
    "func = functions[0]"
   ]
  },
  {
   "cell_type": "code",
   "execution_count": 34,
   "id": "e3d0bc18-a8a1-48f1-9ae9-1cad44f2ac6f",
   "metadata": {},
   "outputs": [
    {
     "ename": "AttributeError",
     "evalue": "'NoneType' object has no attribute 'groupdict'",
     "output_type": "error",
     "traceback": [
      "\u001b[1;31m---------------------------------------------------------------------------\u001b[0m",
      "\u001b[1;31mAttributeError\u001b[0m                            Traceback (most recent call last)",
      "Cell \u001b[1;32mIn [34], line 1\u001b[0m\n\u001b[1;32m----> 1\u001b[0m \u001b[43mannotate_function\u001b[49m\u001b[43m(\u001b[49m\u001b[43mfunc\u001b[49m\u001b[43m,\u001b[49m\u001b[43m \u001b[49m\u001b[43mdirty_lines\u001b[49m\u001b[43m)\u001b[49m\u001b[38;5;241m.\u001b[39msplitlines()\n",
      "File \u001b[1;32m~\\Documents\\Code\\docstring_format\\docstring_format\\base.py:52\u001b[0m, in \u001b[0;36mannotate_function\u001b[1;34m(func, dirty_lines)\u001b[0m\n\u001b[0;32m     49\u001b[0m start, length \u001b[38;5;241m=\u001b[39m get_docstring_lines(func, dirty_lines)\n\u001b[0;32m     50\u001b[0m docstring \u001b[38;5;241m=\u001b[39m \u001b[38;5;124m'\u001b[39m\u001b[38;5;130;01m\\n\u001b[39;00m\u001b[38;5;124m'\u001b[39m\u001b[38;5;241m.\u001b[39mjoin(dirty_lines[start:start \u001b[38;5;241m+\u001b[39m length])\n\u001b[1;32m---> 52\u001b[0m sections \u001b[38;5;241m=\u001b[39m \u001b[43mget_docstring_sections\u001b[49m\u001b[43m(\u001b[49m\u001b[43mdocstring\u001b[49m\u001b[43m)\u001b[49m\n\u001b[0;32m     54\u001b[0m \u001b[38;5;28;01mfor\u001b[39;00m item \u001b[38;5;129;01min\u001b[39;00m func\u001b[38;5;241m.\u001b[39margs\u001b[38;5;241m.\u001b[39margs:\n\u001b[0;32m     55\u001b[0m     arg_name \u001b[38;5;241m=\u001b[39m item\u001b[38;5;241m.\u001b[39marg\n",
      "File \u001b[1;32m~\\Documents\\Code\\docstring_format\\docstring_format\\base.py:44\u001b[0m, in \u001b[0;36mget_docstring_sections\u001b[1;34m(docstring, style)\u001b[0m\n\u001b[0;32m     42\u001b[0m delimiter_token \u001b[38;5;241m=\u001b[39m DOCSTRING_DELIMITER[style]\n\u001b[0;32m     43\u001b[0m sections_regex \u001b[38;5;241m=\u001b[39m re\u001b[38;5;241m.\u001b[39mcompile(\u001b[38;5;124mf\u001b[39m\u001b[38;5;124m'\u001b[39m\u001b[38;5;124m(?P<summary>.*)(?P<delimiter>\u001b[39m\u001b[38;5;132;01m{\u001b[39;00mdelimiter_token\u001b[38;5;132;01m}\u001b[39;00m\u001b[38;5;124m)(?P<parameters>.*)\u001b[39m\u001b[38;5;124m'\u001b[39m, flags\u001b[38;5;241m=\u001b[39mre\u001b[38;5;241m.\u001b[39mS)\n\u001b[1;32m---> 44\u001b[0m result \u001b[38;5;241m=\u001b[39m \u001b[43mre\u001b[49m\u001b[38;5;241;43m.\u001b[39;49m\u001b[43msearch\u001b[49m\u001b[43m(\u001b[49m\u001b[43msections_regex\u001b[49m\u001b[43m,\u001b[49m\u001b[43m \u001b[49m\u001b[43mdocstring\u001b[49m\u001b[43m)\u001b[49m\u001b[38;5;241;43m.\u001b[39;49m\u001b[43mgroupdict\u001b[49m()\n\u001b[0;32m     45\u001b[0m \u001b[38;5;28;01mreturn\u001b[39;00m DocstringSection(\u001b[38;5;241m*\u001b[39m\u001b[38;5;241m*\u001b[39mresult)\n",
      "\u001b[1;31mAttributeError\u001b[0m: 'NoneType' object has no attribute 'groupdict'"
     ]
    }
   ],
   "source": [
    "annotate_function(func, dirty_lines).splitlines()"
   ]
  },
  {
   "cell_type": "code",
   "execution_count": 6,
   "id": "3cf92dbb-b501-41f2-9dbf-3e458150c1c6",
   "metadata": {},
   "outputs": [],
   "source": [
    "from docstring_format.base import *"
   ]
  },
  {
   "cell_type": "code",
   "execution_count": 12,
   "id": "f2c07f80-ca29-407a-a0e8-05256676a74f",
   "metadata": {},
   "outputs": [],
   "source": [
    "start, length = get_docstring_lines(functions[2], dirty_lines)\n",
    "docstring = '\\n'.join(dirty_lines[start:start+length])\n",
    "\n",
    "for item in func.args.args:\n",
    "    arg_name = item.arg\n",
    "    annotation = parse_annotation(item)"
   ]
  },
  {
   "cell_type": "code",
   "execution_count": 8,
   "id": "ea9812b2-6989-4c7d-93bf-50a137ffce31",
   "metadata": {},
   "outputs": [],
   "source": [
    "sections = get_docstring_sections(docstring)"
   ]
  },
  {
   "cell_type": "code",
   "execution_count": 13,
   "id": "8dafd3b0-2bc5-480a-90f7-327de7a67609",
   "metadata": {},
   "outputs": [],
   "source": [
    "arg_w_annotation = re.compile(f'(?P<arg>{arg_name}).*(?P<annotation>{annotation})?.*:?.*\\n')"
   ]
  },
  {
   "cell_type": "code",
   "execution_count": 14,
   "id": "b11c734f-ee74-410c-975b-f79b567f17aa",
   "metadata": {},
   "outputs": [
    {
     "data": {
      "text/plain": [
       "{'arg': 'arg1', 'annotation': None}"
      ]
     },
     "execution_count": 14,
     "metadata": {},
     "output_type": "execute_result"
    }
   ],
   "source": [
    "re.search(arg_w_annotation, docstring).groupdict()"
   ]
  },
  {
   "cell_type": "code",
   "execution_count": 16,
   "id": "164bb6f2-fafd-40a0-ab7a-0041d67a4851",
   "metadata": {},
   "outputs": [
    {
     "data": {
      "text/plain": [
       "['    \"\"\"',\n",
       " '',\n",
       " '    Parameters',\n",
       " '    ----------',\n",
       " '    arg1 (Optional[Iterable]):',\n",
       " '',\n",
       " '    Returns',\n",
       " '    -------',\n",
       " '',\n",
       " '    \"\"\"']"
      ]
     },
     "execution_count": 16,
     "metadata": {},
     "output_type": "execute_result"
    }
   ],
   "source": [
    "annotate_function(func, dirty_lines).splitlines()"
   ]
  },
  {
   "cell_type": "code",
   "execution_count": null,
   "id": "40d939b9-ab00-41c7-80fa-80499606905b",
   "metadata": {},
   "outputs": [],
   "source": []
  }
 ],
 "metadata": {
  "kernelspec": {
   "display_name": "Python 3 (ipykernel)",
   "language": "python",
   "name": "python3"
  },
  "language_info": {
   "codemirror_mode": {
    "name": "ipython",
    "version": 3
   },
   "file_extension": ".py",
   "mimetype": "text/x-python",
   "name": "python",
   "nbconvert_exporter": "python",
   "pygments_lexer": "ipython3",
   "version": "3.10.6"
  }
 },
 "nbformat": 4,
 "nbformat_minor": 5
}
