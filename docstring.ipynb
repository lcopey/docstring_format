{
 "cells": [
  {
   "cell_type": "code",
   "execution_count": 1,
   "id": "81905b87",
   "metadata": {},
   "outputs": [],
   "source": [
    "import ast\n",
    "import inspect\n",
    "from pathlib import Path"
   ]
  },
  {
   "cell_type": "code",
   "execution_count": 124,
   "id": "5c9af3f5",
   "metadata": {},
   "outputs": [],
   "source": [
    "def eval_str(node) -> str:\n",
    "    return node.s\n",
    "\n",
    "def eval_name(node) -> str:\n",
    "    return node.id\n",
    "\n",
    "\n",
    "def eval_index(node):\n",
    "    return eval_node(node.value)\n",
    "\n",
    "\n",
    "def eval_tuple(node):\n",
    "    return ', '.join((eval_node(item) for item in node.elts))\n",
    "\n",
    "\n",
    "def eval_attribute(node):\n",
    "    return f'{eval_node(node.value)}.{node.attr}'\n",
    "\n",
    "\n",
    "def eval_node(node):\n",
    "    node_class = type(node)\n",
    "    return EVAL_MAP[node_class](node)\n",
    "\n",
    "\n",
    "def eval_subscript(node) -> str:\n",
    "    return f'{eval_node(node.value)}[{eval_node(node.slice)}]'\n",
    "\n",
    "\n",
    "EVAL_MAP = {ast.Name: eval_name,\n",
    "            ast.Index: eval_index,\n",
    "            ast.Tuple: eval_tuple,\n",
    "            ast.Attribute: eval_attribute,\n",
    "            ast.Subscript: eval_subscript,\n",
    "            ast.Str: eval_str}"
   ]
  },
  {
   "cell_type": "code",
   "execution_count": 125,
   "id": "65312195",
   "metadata": {},
   "outputs": [],
   "source": [
    "# file = Path('equation_parser/from_ast.py')\n",
    "file = Path('equation_parser/functions.py')\n",
    "\n",
    "raw_tree = file.read_text()\n",
    "tree = ast.parse(raw_tree)"
   ]
  },
  {
   "cell_type": "code",
   "execution_count": 126,
   "id": "0db4b884",
   "metadata": {
    "scrolled": true
   },
   "outputs": [
    {
     "data": {
      "text/plain": [
       "\"Module(body=[Expr(value=Str(s='Custom function in the parser')), ImportFrom(module='typing', names=[alias(name='TYPE_CHECKING', asname=None), alias(name='Union', asname=None)], level=0), If(test=Name(id='TYPE_CHECKING', ctx=Load()), body=[Import(names=[alias(name='pandas', asname='pd')])], orelse=[]), FunctionDef(name='identity', args=arguments(args=[arg(arg='x', annotation=None)], vararg=None, kwonlyargs=[], kw_defaults=[], kwarg=None, defaults=[]), body=[Expr(value=Str(s='Convenience function returning the input value')), Return(value=Name(id='x', ctx=Load()))], decorator_list=[], returns=None), FunctionDef(name='_get_ref_values', args=arguments(args=[arg(arg='values', annotation=Str(s='Union[pd.DataFrame, pd.Series]')), arg(arg='ref_id', annotation=None)], vararg=None, kwonlyargs=[], kw_defaults=[], kwarg=None, defaults=[]), body=[Expr(value=Str(s='Get reference from values either as scalar or as numpy array')), Assign(targets=[Name(id='ref_values', ctx=Store())], value=Subscript(value=Attribute(value=Name(id='values', ctx=Load()), attr='loc', ctx=Load()), slice=Index(value=Name(id='ref_id', ctx=Load())), ctx=Load())), If(test=Call(func=Name(id='isinstance', ctx=Load()), args=[Name(id='ref_id', ctx=Load()), Name(id='list', ctx=Load())], keywords=[]), body=[Assign(targets=[Name(id='ref_values', ctx=Store())], value=Attribute(value=Name(id='ref_values', ctx=Load()), attr='values', ctx=Load()))], orelse=[]), Return(value=Name(id='ref_values', ctx=Load()))], decorator_list=[], returns=None), FunctionDef(name='relative_percentage', args=arguments(args=[arg(arg='values', annotation=Str(s='Union[pd.DataFrame, pd.Series]')), arg(arg='ref_id', annotation=None)], vararg=None, kwonlyargs=[], kw_defaults=[], kwarg=None, defaults=[]), body=[Expr(value=Str(s='Compute the percentage of varation of values relative to the value in ref_id')), Assign(targets=[Name(id='ref_values', ctx=Store())], value=Call(func=Name(id='_get_ref_values', ctx=Load()), args=[Name(id='values', ctx=Load()), Name(id='ref_id', ctx=Load())], keywords=[])), Return(value=BinOp(left=BinOp(left=Name(id='values', ctx=Load()), op=Sub(), right=Name(id='ref_values', ctx=Load())), op=Div(), right=Name(id='ref_values', ctx=Load())))], decorator_list=[], returns=Str(s='Union[pd.DataFrame, pd.Series]')), FunctionDef(name='delta', args=arguments(args=[arg(arg='values', annotation=Str(s='Union[pd.DataFrame, pd.Series]')), arg(arg='ref_id', annotation=None)], vararg=None, kwonlyargs=[], kw_defaults=[], kwarg=None, defaults=[]), body=[Expr(value=Str(s='Compute the difference of values with respect to ref_id.\\\\n\\\\n    Parameters\\\\n    ----------\\\\n    values: values to compute from\\\\n    ref_id: delta values are computed with respect to that reference. It should be valid index or a list of valid\\\\n     index from values.\\\\n    -------\\\\n\\\\n    ')), Assign(targets=[Name(id='ref_values', ctx=Store())], value=Call(func=Name(id='_get_ref_values', ctx=Load()), args=[Name(id='values', ctx=Load()), Name(id='ref_id', ctx=Load())], keywords=[])), Return(value=BinOp(left=Name(id='values', ctx=Load()), op=Sub(), right=Name(id='ref_values', ctx=Load())))], decorator_list=[], returns=Str(s='Union[pd.DataFrame, pd.Series]'))])\""
      ]
     },
     "execution_count": 126,
     "metadata": {},
     "output_type": "execute_result"
    }
   ],
   "source": [
    "ast.dump(tree)"
   ]
  },
  {
   "cell_type": "code",
   "execution_count": 127,
   "id": "afb7956e",
   "metadata": {},
   "outputs": [],
   "source": [
    "classes = [item for item in tree.body if isinstance(item, ast.ClassDef)]\n",
    "\n",
    "class_methods = [func for item in classes for func in item.body if isinstance(func, ast.FunctionDef)]\n",
    "\n",
    "functions = [item for item in tree.body if isinstance(item, ast.FunctionDef)]"
   ]
  },
  {
   "cell_type": "code",
   "execution_count": 132,
   "id": "751e27e4",
   "metadata": {},
   "outputs": [],
   "source": [
    "for func in class_methods:\n",
    "    print(f'def {func.name}():')\n",
    "    if ast.get_docstring(func) is not None:\n",
    "        print(f'\\t{ast.get_docstring(func)}')\n",
    "        for item in func.args.args:\n",
    "            if item.annotation is not None:\n",
    "                print(f'\\t{item.arg}: {eval_node(item.annotation)}')\n",
    "    print()"
   ]
  },
  {
   "cell_type": "code",
   "execution_count": 133,
   "id": "703f2817",
   "metadata": {},
   "outputs": [
    {
     "name": "stdout",
     "output_type": "stream",
     "text": [
      "def identity():\n",
      "\tConvenience function returning the input value\n",
      "\n",
      "def _get_ref_values():\n",
      "\tGet reference from values either as scalar or as numpy array\n",
      "\tvalues: Union[pd.DataFrame, pd.Series]\n",
      "\n",
      "def relative_percentage():\n",
      "\tCompute the percentage of varation of values relative to the value in ref_id\n",
      "\tvalues: Union[pd.DataFrame, pd.Series]\n",
      "\n",
      "def delta():\n",
      "\tCompute the difference of values with respect to ref_id.\n",
      "\n",
      "Parameters\n",
      "----------\n",
      "values: values to compute from\n",
      "ref_id: delta values are computed with respect to that reference. It should be valid index or a list of valid\n",
      " index from values.\n",
      "-------\n",
      "\tvalues: Union[pd.DataFrame, pd.Series]\n",
      "\n"
     ]
    }
   ],
   "source": [
    "for func in functions:\n",
    "    print(f'def {func.name}():')\n",
    "    if ast.get_docstring(func) is not None:\n",
    "        print(f'\\t{ast.get_docstring(func)}')\n",
    "        for item in func.args.args:\n",
    "            if item.annotation is not None:\n",
    "                print(f'\\t{item.arg}: {eval_node(item.annotation)}')\n",
    "    print()"
   ]
  },
  {
   "cell_type": "code",
   "execution_count": 116,
   "id": "6c96c6a5",
   "metadata": {},
   "outputs": [
    {
     "data": {
      "text/plain": [
       "\"Str(s='Union[pd.DataFrame, pd.Series]')\""
      ]
     },
     "execution_count": 116,
     "metadata": {},
     "output_type": "execute_result"
    }
   ],
   "source": [
    "ast.dump(func.args.args[0].annotation)"
   ]
  },
  {
   "cell_type": "code",
   "execution_count": null,
   "id": "4f44366e",
   "metadata": {},
   "outputs": [],
   "source": []
  },
  {
   "cell_type": "code",
   "execution_count": 8,
   "id": "c022c46e",
   "metadata": {},
   "outputs": [],
   "source": [
    "import importlib\n",
    "import inspect"
   ]
  },
  {
   "cell_type": "code",
   "execution_count": 19,
   "id": "66b9a345",
   "metadata": {},
   "outputs": [],
   "source": [
    "module_name = str(file).replace('\\\\', '.').replace('.py', '')"
   ]
  },
  {
   "cell_type": "code",
   "execution_count": 20,
   "id": "995ca8ff",
   "metadata": {},
   "outputs": [],
   "source": [
    "module = importlib.import_module(module_name)"
   ]
  },
  {
   "cell_type": "code",
   "execution_count": 21,
   "id": "5ddf3821",
   "metadata": {},
   "outputs": [],
   "source": [
    "signature = inspect.signature(getattr(module, func.name))"
   ]
  },
  {
   "cell_type": "code",
   "execution_count": 26,
   "id": "54ba96c8",
   "metadata": {},
   "outputs": [
    {
     "name": "stdout",
     "output_type": "stream",
     "text": [
      "('ast_node', <Parameter \"ast_node:Union[_ast.Constant, _ast.Name, _ast.BinOp, _ast.UnaryOp]\">)\n"
     ]
    }
   ],
   "source": [
    "for param_name, param_type in signature.parameters.items():\n",
    "    print(item)"
   ]
  },
  {
   "cell_type": "code",
   "execution_count": 39,
   "id": "dddd26d2",
   "metadata": {},
   "outputs": [
    {
     "data": {
      "text/plain": [
       "typing.Union[_ast.Constant, _ast.Name, _ast.BinOp, _ast.UnaryOp]"
      ]
     },
     "execution_count": 39,
     "metadata": {},
     "output_type": "execute_result"
    }
   ],
   "source": [
    "param_type.annotation"
   ]
  },
  {
   "cell_type": "code",
   "execution_count": 45,
   "id": "409ab328",
   "metadata": {},
   "outputs": [
    {
     "data": {
      "text/plain": [
       "\"arguments(args=[arg(arg='ast_node', annotation=Subscript(value=Name(id='Union', ctx=Load()), slice=Index(value=Tuple(elts=[Attribute(value=Name(id='ast', ctx=Load()), attr='Constant', ctx=Load()), Attribute(value=Name(id='ast', ctx=Load()), attr='Name', ctx=Load()), Attribute(value=Name(id='ast', ctx=Load()), attr='BinOp', ctx=Load()), Attribute(value=Name(id='ast', ctx=Load()), attr='UnaryOp', ctx=Load())], ctx=Load())), ctx=Load()))], vararg=None, kwonlyargs=[], kw_defaults=[], kwarg=None, defaults=[])\""
      ]
     },
     "execution_count": 45,
     "metadata": {},
     "output_type": "execute_result"
    }
   ],
   "source": [
    "ast.dump(func.args)"
   ]
  }
 ],
 "metadata": {
  "hide_input": false,
  "kernelspec": {
   "display_name": "Python 3",
   "language": "python",
   "name": "python3"
  },
  "language_info": {
   "codemirror_mode": {
    "name": "ipython",
    "version": 3
   },
   "file_extension": ".py",
   "mimetype": "text/x-python",
   "name": "python",
   "nbconvert_exporter": "python",
   "pygments_lexer": "ipython3",
   "version": "3.6.13"
  },
  "toc": {
   "base_numbering": 1,
   "nav_menu": {},
   "number_sections": true,
   "sideBar": true,
   "skip_h1_title": false,
   "title_cell": "Table of Contents",
   "title_sidebar": "Contents",
   "toc_cell": false,
   "toc_position": {},
   "toc_section_display": true,
   "toc_window_display": false
  }
 },
 "nbformat": 4,
 "nbformat_minor": 5
}
