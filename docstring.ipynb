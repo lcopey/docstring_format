{
 "cells": [
  {
   "cell_type": "code",
   "execution_count": 1,
   "id": "12b7c880-5350-45ec-a474-e6677c6212dd",
   "metadata": {},
   "outputs": [],
   "source": [
    "%load_ext autoreload\n",
    "%autoreload 2\n",
    "\n",
    "import ast\n",
    "from pathlib import Path\n",
    "from pprint import pprint\n",
    "from docstring_format import *"
   ]
  },
  {
   "cell_type": "code",
   "execution_count": 2,
   "id": "b28a1901-6b89-4918-bf63-2e9397ba79e7",
   "metadata": {},
   "outputs": [],
   "source": [
    "# file = Path('equation_parser/functions.py')\n",
    "file = Path('./tests/dummy_tests_functions.py')\n",
    "\n",
    "raw_text = file.read_text()\n",
    "dirty_lines = raw_text.splitlines()\n",
    "tree = ast.parse(raw_text)"
   ]
  },
  {
   "cell_type": "code",
   "execution_count": 3,
   "id": "18c92223-b8ce-4ccd-b09b-4ad4a7a4b63e",
   "metadata": {},
   "outputs": [],
   "source": [
    "classes = [item for item in tree.body if isinstance(item, ast.ClassDef)]\n",
    "\n",
    "class_methods = [func for item in classes for func in item.body if isinstance(func, ast.FunctionDef)]\n",
    "\n",
    "functions = [item for item in tree.body if isinstance(item, ast.FunctionDef)]"
   ]
  },
  {
   "cell_type": "code",
   "execution_count": 4,
   "id": "4404a33f-08cb-4534-9188-f0dd4a438610",
   "metadata": {},
   "outputs": [],
   "source": [
    "func = functions[0]"
   ]
  },
  {
   "cell_type": "code",
   "execution_count": 5,
   "id": "e3d0bc18-a8a1-48f1-9ae9-1cad44f2ac6f",
   "metadata": {},
   "outputs": [
    {
     "data": {
      "text/plain": [
       "['    \"\"\"',\n",
       " '    AZrojrltndflg lejkkjntgdf',\n",
       " '',\n",
       " '    Parameters',\n",
       " '    ----------',\n",
       " '    arg1 (str):',\n",
       " '',\n",
       " '    Returns',\n",
       " '    -------',\n",
       " '',\n",
       " '    \"\"\"']"
      ]
     },
     "execution_count": 5,
     "metadata": {},
     "output_type": "execute_result"
    }
   ],
   "source": [
    "annotate_function(func, dirty_lines).splitlines()"
   ]
  },
  {
   "cell_type": "markdown",
   "id": "0dead519-a3d6-4bd9-9d09-8f7691362432",
   "metadata": {},
   "source": [
    "# Unittests"
   ]
  },
  {
   "cell_type": "code",
   "execution_count": 12,
   "id": "3eef5f21-c88b-4a5d-8c25-074acf0fd928",
   "metadata": {},
   "outputs": [],
   "source": [
    "from docstring_format.base import *\n",
    "import json"
   ]
  },
  {
   "cell_type": "code",
   "execution_count": 42,
   "id": "9946bb46-4139-49e8-b1ca-09fb69118a64",
   "metadata": {},
   "outputs": [],
   "source": [
    "results = {}\n",
    "for func in functions:\n",
    "    start, length = get_docstring_lines(func, dirty_lines)\n",
    "    results[func.name] = dict(zip(('start', 'length'), (start, length)))\n",
    "    \n",
    "    docstring = '\\n'.join(dirty_lines[start:start+length])\n",
    "    results[func.name]['sections'] = get_docstring_sections(docstring).to_dict()\n",
    "    \n",
    "    results[func.name]['docstring'] = annotate_function(func, dirty_lines)"
   ]
  },
  {
   "cell_type": "code",
   "execution_count": 44,
   "id": "fd57d6a9-4256-496e-adc3-34673a8ab10d",
   "metadata": {},
   "outputs": [
    {
     "name": "stdout",
     "output_type": "stream",
     "text": [
      "['    \"\"\"',\n",
      " '    AZrojrltndflg lejkkjntgdf',\n",
      " '',\n",
      " '    Parameters',\n",
      " '    ----------',\n",
      " '    arg1: test',\n",
      " '',\n",
      " '    Returns',\n",
      " '    -------',\n",
      " '',\n",
      " '    \"\"\"']\n",
      "\n",
      "['    \"\"\"A function doing something',\n",
      " '',\n",
      " '',\n",
      " '    Second paragraph.',\n",
      " '    ',\n",
      " '    Third paragraph',\n",
      " '    Parameters',\n",
      " '    ----------',\n",
      " '    arg1 (list): This does something',\n",
      " '',\n",
      " '    \"\"\"']\n",
      "\n",
      "['    \"\"\"',\n",
      " '',\n",
      " '    Parameters',\n",
      " '    ----------',\n",
      " '    arg1',\n",
      " '',\n",
      " '    Returns',\n",
      " '    -------',\n",
      " '',\n",
      " '    \"\"\"']\n",
      "\n",
      "['    \"\"\"',\n",
      " '',\n",
      " '    Parameters',\n",
      " '    ----------',\n",
      " '    arg1: this does that',\n",
      " '',\n",
      " '    Returns',\n",
      " '    -------',\n",
      " '',\n",
      " '    \"\"\"']\n",
      "\n"
     ]
    }
   ],
   "source": [
    "for func in functions:\n",
    "    start, length = get_docstring_lines(func, dirty_lines)\n",
    "    pprint(dirty_lines[start:start+length])\n",
    "    print()"
   ]
  },
  {
   "cell_type": "code",
   "execution_count": 45,
   "id": "045ed164-0fa0-40ef-b438-31314d30abfc",
   "metadata": {},
   "outputs": [],
   "source": [
    "with open('./tests/dummy_results.json', mode='w') as f:\n",
    "    json.dump(results, f, indent=4)"
   ]
  },
  {
   "cell_type": "markdown",
   "id": "bda988f9-37f6-46f2-baa4-e30d7378220a",
   "metadata": {},
   "source": [
    "# Dev "
   ]
  },
  {
   "cell_type": "code",
   "execution_count": 27,
   "id": "f2c07f80-ca29-407a-a0e8-05256676a74f",
   "metadata": {},
   "outputs": [],
   "source": [
    "start, length = get_docstring_lines(functions[2], dirty_lines)\n",
    "docstring = '\\n'.join(dirty_lines[start:start+length])\n",
    "\n",
    "for item in func.args.args:\n",
    "    arg_name = item.arg\n",
    "    annotation = parse_annotation(item)"
   ]
  },
  {
   "cell_type": "code",
   "execution_count": 28,
   "id": "ea9812b2-6989-4c7d-93bf-50a137ffce31",
   "metadata": {},
   "outputs": [],
   "source": [
    "sections = get_docstring_sections(docstring)"
   ]
  },
  {
   "cell_type": "code",
   "execution_count": null,
   "id": "8dafd3b0-2bc5-480a-90f7-327de7a67609",
   "metadata": {},
   "outputs": [],
   "source": [
    "arg_w_annotation = re.compile(f'(?P<arg>{arg_name}).*(?P<annotation>{annotation})?.*:?.*\\n')"
   ]
  },
  {
   "cell_type": "code",
   "execution_count": null,
   "id": "b11c734f-ee74-410c-975b-f79b567f17aa",
   "metadata": {},
   "outputs": [],
   "source": [
    "re.search(arg_w_annotation, docstring).groupdict()"
   ]
  },
  {
   "cell_type": "code",
   "execution_count": null,
   "id": "164bb6f2-fafd-40a0-ab7a-0041d67a4851",
   "metadata": {},
   "outputs": [],
   "source": [
    "annotate_function(func, dirty_lines).splitlines()"
   ]
  },
  {
   "cell_type": "code",
   "execution_count": null,
   "id": "40d939b9-ab00-41c7-80fa-80499606905b",
   "metadata": {},
   "outputs": [],
   "source": []
  }
 ],
 "metadata": {
  "kernelspec": {
   "display_name": "Python 3 (ipykernel)",
   "language": "python",
   "name": "python3"
  },
  "language_info": {
   "codemirror_mode": {
    "name": "ipython",
    "version": 3
   },
   "file_extension": ".py",
   "mimetype": "text/x-python",
   "name": "python",
   "nbconvert_exporter": "python",
   "pygments_lexer": "ipython3",
   "version": "3.10.6"
  }
 },
 "nbformat": 4,
 "nbformat_minor": 5
}
