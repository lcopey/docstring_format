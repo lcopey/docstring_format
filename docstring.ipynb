{
 "cells": [
  {
   "cell_type": "code",
   "execution_count": 35,
   "id": "12b7c880-5350-45ec-a474-e6677c6212dd",
   "metadata": {},
   "outputs": [
    {
     "name": "stdout",
     "output_type": "stream",
     "text": [
      "The autoreload extension is already loaded. To reload it, use:\n",
      "  %reload_ext autoreload\n"
     ]
    }
   ],
   "source": [
    "%load_ext autoreload\n",
    "%autoreload 2\n",
    "\n",
    "import ast\n",
    "from pathlib import Path\n",
    "from pprint import pprint\n",
    "from docstring_format import *"
   ]
  },
  {
   "cell_type": "code",
   "execution_count": 36,
   "id": "d71bef59-81bb-4684-8a35-37ce86385bc4",
   "metadata": {},
   "outputs": [],
   "source": [
    "# file = Path('equation_parser/functions.py')\n",
    "file = Path('./tests/dummy_tests_functions.py')\n",
    "\n",
    "raw_text = file.read_text()\n",
    "dirty_lines = raw_text.splitlines()\n",
    "tree = ast.parse(raw_text)\n",
    "\n",
    "classes = [item for item in tree.body if isinstance(item, ast.ClassDef)]\n",
    "class_methods = [func for item in classes for func in item.body if isinstance(func, ast.FunctionDef)]\n",
    "functions = [item for item in tree.body if isinstance(item, ast.FunctionDef)]"
   ]
  },
  {
   "cell_type": "markdown",
   "id": "1b94c7ee-0a7f-4994-9d88-e8a8e7d33079",
   "metadata": {},
   "source": [
    "# File annotations"
   ]
  },
  {
   "cell_type": "code",
   "execution_count": 144,
   "id": "1d53e4ff-8588-458c-8933-0d5a69494fd2",
   "metadata": {},
   "outputs": [],
   "source": [
    "from docstring_format.base import get_docstring_sections"
   ]
  },
  {
   "cell_type": "code",
   "execution_count": 145,
   "id": "103a8693-00dd-4591-aeed-8e6dac7fd6a7",
   "metadata": {},
   "outputs": [],
   "source": [
    "for func in functions:\n",
    "    docstring = get_docstring(func, dirty_lines)\n",
    "    sections = get_docstring_sections(docstring)"
   ]
  },
  {
   "cell_type": "code",
   "execution_count": 151,
   "id": "7c38be89-a9cf-4e18-9ea2-f4cfeb298284",
   "metadata": {},
   "outputs": [
    {
     "data": {
      "text/plain": [
       "'    values: values to compute from\\n    ref_id: delta values are computed with respect to that reference. It should be valid index or a list of valid\\n     index from values.\\n\\n    '"
      ]
     },
     "execution_count": 151,
     "metadata": {},
     "output_type": "execute_result"
    }
   ],
   "source": [
    "sections.parameters"
   ]
  },
  {
   "cell_type": "code",
   "execution_count": 142,
   "id": "af83b540-c8fb-4cdd-9f77-b6d98e23c82d",
   "metadata": {},
   "outputs": [],
   "source": [
    "sections.returns =  parse_returns(func) + sections.returns"
   ]
  },
  {
   "cell_type": "code",
   "execution_count": 143,
   "id": "a31f9e9a-83a4-45f8-8f6c-99825f378ba2",
   "metadata": {},
   "outputs": [
    {
     "name": "stdout",
     "output_type": "stream",
     "text": [
      "('    \"\"\"Compute the difference of values with respect to ref_id.\\n'\n",
      " '\\n'\n",
      " '    Parameters\\n'\n",
      " '    ----------\\n'\n",
      " '    values: values to compute from\\n'\n",
      " '    ref_id: delta values are computed with respect to that reference. It '\n",
      " 'should be valid index or a list of valid\\n'\n",
      " '     index from values.\\n'\n",
      " '\\n'\n",
      " '    Returns\\n'\n",
      " '    -------\\n'\n",
      " 'Union[pd.DataFrame, pd.Series]\\n'\n",
      " '    \"\"\"')\n"
     ]
    }
   ],
   "source": [
    "pprint(sections.to_string())"
   ]
  },
  {
   "cell_type": "code",
   "execution_count": 124,
   "id": "4e3a3642-35b6-448c-b0fe-1110a027b3d7",
   "metadata": {},
   "outputs": [
    {
     "data": {
      "text/plain": [
       "'    \"\"\"Compute the difference of values with respect to ref_id.\\n\\n    Parameters\\n    ----------\\n    values: values to compute from\\n    ref_id: delta values are computed with respect to that reference. It should be valid index or a list of valid\\n     index from values.\\n\\n    Returns\\n    -------\\n\\n    \"\"\"'"
      ]
     },
     "execution_count": 124,
     "metadata": {},
     "output_type": "execute_result"
    }
   ],
   "source": [
    "docstring"
   ]
  },
  {
   "cell_type": "code",
   "execution_count": 125,
   "id": "200c02fb-ee97-4006-ab3b-c3b1ed7c219a",
   "metadata": {},
   "outputs": [
    {
     "data": {
      "text/plain": [
       "'    \"\"\"Compute the difference of values with respect to ref_id.\\n\\n    Parameters\\n    ----------\\n    values: values to compute from\\n    ref_id: delta values are computed with respect to that reference. It should be valid index or a list of valid\\n     index from values.\\n\\n    Returns\\n    -------\\n\\n    \"\"\"'"
      ]
     },
     "execution_count": 125,
     "metadata": {},
     "output_type": "execute_result"
    }
   ],
   "source": [
    "get_docstring_sections(docstring).to_string()"
   ]
  },
  {
   "cell_type": "code",
   "execution_count": 37,
   "id": "4e282281-4e99-4e81-902a-eab438ab16d8",
   "metadata": {},
   "outputs": [],
   "source": [
    "lines = dirty_lines.copy()\n",
    "for func in functions:\n",
    "    lines = annotate_function(func, lines)\n",
    "    \n",
    "for method in class_methods:\n",
    "    lines = annotate_function(method, lines)"
   ]
  },
  {
   "cell_type": "code",
   "execution_count": 38,
   "id": "edf42d3e-3efd-4086-8efe-5898a92a4ab2",
   "metadata": {},
   "outputs": [],
   "source": [
    "docstring = get_docstring(func, dirty_lines)"
   ]
  },
  {
   "cell_type": "code",
   "execution_count": 39,
   "id": "eb6aaf75-bd7f-457b-bf58-c7ee3e03c9be",
   "metadata": {},
   "outputs": [],
   "source": [
    "import re"
   ]
  },
  {
   "cell_type": "code",
   "execution_count": 104,
   "id": "30c42e36-d81c-4c3c-bd9d-931855c62ecb",
   "metadata": {},
   "outputs": [],
   "source": [
    "param_token = 'Parameters\\n\\s*-+\\n'\n",
    "return_token = 'Returns\\s*-+\\n'"
   ]
  },
  {
   "cell_type": "code",
   "execution_count": 162,
   "id": "f0280661-4210-4777-9c0c-44393ab1cbab",
   "metadata": {},
   "outputs": [],
   "source": [
    "docstring = '    \"\"\"Compute the difference of values with respect to ref_id.\\n\\n    Parameters\\n    ----------\\n    values: values to compute from\\n    ref_id: delta values are computed with respect to that reference. It should be valid index or a list of valid\\n     index from values.\\n\\n    Returns\\n    -------\\n\\n    \"\"\"'"
   ]
  },
  {
   "cell_type": "code",
   "execution_count": 163,
   "id": "38f5d7d2-d4cc-4306-802c-d073e0ba531f",
   "metadata": {},
   "outputs": [],
   "source": [
    "docstring = '    \"\"\"Compute the difference of values with respect to ref_id.\\n\\n    Parameters\\n    ----------\\n    values: values to compute from\\n    ref_id: delta values are computed with respect to that reference. It should be valid index or a list of valid\\n     index from values.\"\"\"'"
   ]
  },
  {
   "cell_type": "code",
   "execution_count": 164,
   "id": "079e5293-6454-460c-b86d-b0e19f9ff0b5",
   "metadata": {},
   "outputs": [
    {
     "name": "stdout",
     "output_type": "stream",
     "text": [
      "('    \"\"\"Compute the difference of values with respect to ref_id.\\n'\n",
      " '\\n'\n",
      " '    Parameters\\n'\n",
      " '    ----------\\n'\n",
      " '    values: values to compute from\\n'\n",
      " '    ref_id: delta values are computed with respect to that reference. It '\n",
      " 'should be valid index or a list of valid\\n'\n",
      " '     index from values.\"\"\"')\n"
     ]
    }
   ],
   "source": [
    "pprint(docstring)"
   ]
  },
  {
   "cell_type": "code",
   "execution_count": 169,
   "id": "418a1fe7-4f8a-4262-8393-97640aa8debd",
   "metadata": {},
   "outputs": [
    {
     "data": {
      "text/plain": [
       "{'offset': '    ',\n",
       " 'summary': '\"\"\"Compute the difference of values with respect to ref_id.\\n\\n    ',\n",
       " 'param_delimiter': 'Parameters\\n    ----------\\n',\n",
       " 'parameters': '    values: values to compute from\\n    ref_id: delta values are computed with respect to that reference. It should be valid index or a list of valid\\n     index from values.\"\"\"',\n",
       " 'return_delimiter': None,\n",
       " 'returns': ''}"
      ]
     },
     "execution_count": 169,
     "metadata": {},
     "output_type": "execute_result"
    }
   ],
   "source": [
    "pattern = re.compile('(?P<offset>\\s*)'\n",
    "                     '(?P<summary>.*)'\n",
    "                     f'(?P<param_delimiter>{param_token})'\n",
    "                     f'(?P<parameters>(?:(?!{return_token}).)*)'  # negative lookahead of return token\n",
    "                     f'(?P<return_delimiter>{return_token})?'\n",
    "                     f'(?P<returns>.*)?',\n",
    "                     flags=re.S)\n",
    "\n",
    "sections = re.search(pattern, docstring).groupdict()\n",
    "sections"
   ]
  },
  {
   "cell_type": "code",
   "execution_count": 237,
   "id": "9eea8aea-9218-4979-8c94-9e4ac0b21f26",
   "metadata": {},
   "outputs": [],
   "source": [
    "params = [{'name': item.arg, 'annotation': parse_annotation(item)} for item in func.args.args]\n",
    "param_lines = sections['parameters'].splitlines()\n",
    "total_lines = len(param_lines)\n",
    "\n",
    "params_start_line = []\n",
    "for _ in range(len(params)):\n",
    "    param = params.pop()\n",
    "    param_name = param['name']\n",
    "    pattern = re.compile(f'\\s*{param_name}')\n",
    "\n",
    "    for n, line in enumerate(param_lines):\n",
    "        match = re.search(pattern, line)\n",
    "        if match:\n",
    "            param['start'] = n\n",
    "            params_start_line.append(param)\n",
    "            break\n",
    "\n",
    "params_start_line.sort(key=lambda x: x['start'])\n",
    "\n",
    "for n, item in enumerate(params_start_line):\n",
    "    if n < len(params_start_line)-1:\n",
    "        item['length'] = params_start_line[n+1]['start']-item['start']\n",
    "        item['lines'] = param_lines[item['start']:item['start']+item['length']]\n",
    "    else:\n",
    "        item['length'] = total_lines-item['start']\n",
    "        item['lines'] = param_lines[item['start']:item['start']+item['length']]"
   ]
  },
  {
   "cell_type": "code",
   "execution_count": 238,
   "id": "93ca23ca-14ee-42a1-8a36-53006d8495ae",
   "metadata": {},
   "outputs": [
    {
     "data": {
      "text/plain": [
       "[{'name': 'values',\n",
       "  'annotation': 'Union[pd.DataFrame, pd.Series]',\n",
       "  'start': 0,\n",
       "  'length': 1,\n",
       "  'lines': ['    values: values to compute from']},\n",
       " {'name': 'ref_id',\n",
       "  'annotation': None,\n",
       "  'start': 1,\n",
       "  'length': 2,\n",
       "  'lines': ['    ref_id: delta values are computed with respect to that reference. It should be valid index or a list of valid',\n",
       "   '     index from values.\"\"\"']}]"
      ]
     },
     "execution_count": 238,
     "metadata": {},
     "output_type": "execute_result"
    }
   ],
   "source": [
    "params_start_line"
   ]
  },
  {
   "cell_type": "code",
   "execution_count": 166,
   "id": "05af8a61-8e8d-450d-b61a-db7bf7ade8b1",
   "metadata": {},
   "outputs": [
    {
     "data": {
      "text/plain": [
       "'Union[pd.DataFrame, pd.Series]'"
      ]
     },
     "execution_count": 166,
     "metadata": {},
     "output_type": "execute_result"
    }
   ],
   "source": [
    "parse_returns(func)"
   ]
  },
  {
   "cell_type": "code",
   "execution_count": null,
   "id": "1573b93b-1395-470d-98f6-a80ac8c06075",
   "metadata": {},
   "outputs": [],
   "source": [
    "dirty_lines"
   ]
  },
  {
   "cell_type": "code",
   "execution_count": null,
   "id": "21fa9148-88ad-4423-8cfa-8ed1cedfe6d3",
   "metadata": {},
   "outputs": [],
   "source": [
    "lines"
   ]
  },
  {
   "cell_type": "code",
   "execution_count": null,
   "id": "83cb6f66-fe86-4403-8c8b-1ecddc8242a5",
   "metadata": {},
   "outputs": [],
   "source": [
    "start, length = get_docstring_lines(func, dirty_lines)\n",
    "corrected_docstring = annotate_function(func, dirty_lines)"
   ]
  },
  {
   "cell_type": "code",
   "execution_count": null,
   "id": "c65c863f-ff9c-4109-aa52-92a27abc5b14",
   "metadata": {},
   "outputs": [],
   "source": [
    "def correct_lines(dirty_lines, start, length, corrected_docstring):\n",
    "    corrected_lines = dirty_lines.copy()\n",
    "    [corrected_lines.pop(start) for _ in range(length)]\n",
    "    [corrected_lines.insert(start, line) for line in corrected_docstring.splitlines()[::-1]]\n",
    "    \n",
    "    return corrected_lines"
   ]
  },
  {
   "cell_type": "code",
   "execution_count": null,
   "id": "151a788d-7f56-4d28-863b-f3b346c28a51",
   "metadata": {},
   "outputs": [],
   "source": [
    "corrected_lines = correct_lines(dirty_lines, start, length, corrected_docstring)"
   ]
  },
  {
   "cell_type": "code",
   "execution_count": null,
   "id": "a386953a-3387-4132-a7e2-8c30bc1acefb",
   "metadata": {},
   "outputs": [],
   "source": [
    "corrected_lines[start:start+length]"
   ]
  },
  {
   "cell_type": "markdown",
   "id": "0dead519-a3d6-4bd9-9d09-8f7691362432",
   "metadata": {},
   "source": [
    "# Unittests"
   ]
  },
  {
   "cell_type": "code",
   "execution_count": null,
   "id": "3eef5f21-c88b-4a5d-8c25-074acf0fd928",
   "metadata": {
    "tags": []
   },
   "outputs": [],
   "source": [
    "from docstring_format.base import *\n",
    "import json"
   ]
  },
  {
   "cell_type": "code",
   "execution_count": null,
   "id": "9946bb46-4139-49e8-b1ca-09fb69118a64",
   "metadata": {},
   "outputs": [],
   "source": [
    "file = Path('./tests/dummy_tests_functions.py')\n",
    "\n",
    "raw_text = file.read_text()\n",
    "dirty_lines = raw_text.splitlines()\n",
    "tree = ast.parse(raw_text)\n",
    "\n",
    "classes = [item for item in tree.body if isinstance(item, ast.ClassDef)]\n",
    "class_methods = [func for item in classes for func in item.body if isinstance(func, ast.FunctionDef)]\n",
    "\n",
    "functions = [item for item in tree.body if isinstance(item, ast.FunctionDef)]\n",
    "\n",
    "results = {}\n",
    "for func in functions:\n",
    "    start, length = get_docstring_lines(func, dirty_lines)\n",
    "    results[func.name] = dict(zip(('start', 'length'), (start, length)))\n",
    "    \n",
    "    docstring = '\\n'.join(dirty_lines[start:start+length])\n",
    "    results[func.name]['sections'] = get_docstring_sections(docstring).to_dict()\n",
    "    \n",
    "    results[func.name]['docstring'] = annotate_function(func, dirty_lines)"
   ]
  },
  {
   "cell_type": "code",
   "execution_count": null,
   "id": "045ed164-0fa0-40ef-b438-31314d30abfc",
   "metadata": {},
   "outputs": [],
   "source": [
    "with open('./tests/dummy_results.json', mode='w') as f:\n",
    "    json.dump(results, f, indent=4)"
   ]
  },
  {
   "cell_type": "markdown",
   "id": "bda988f9-37f6-46f2-baa4-e30d7378220a",
   "metadata": {},
   "source": [
    "# Dev "
   ]
  },
  {
   "cell_type": "code",
   "execution_count": null,
   "id": "30790463-d8c0-4d6a-808d-1b28caca246c",
   "metadata": {},
   "outputs": [],
   "source": [
    "from docstring_format.base import *\n",
    "from docstring_format.constants import *\n",
    "import json"
   ]
  },
  {
   "cell_type": "code",
   "execution_count": null,
   "id": "40d939b9-ab00-41c7-80fa-80499606905b",
   "metadata": {},
   "outputs": [],
   "source": [
    "file = Path('equation_parser/constants.py')\n",
    "# file = Path('./tests/dummy_tests_functions.py')\n",
    "\n",
    "raw_text = file.read_text()\n",
    "dirty_lines = raw_text.splitlines()\n",
    "tree = ast.parse(raw_text)\n",
    "\n",
    "classes = [item for item in tree.body if isinstance(item, ast.ClassDef)]\n",
    "\n",
    "class_methods = [func for item in classes for func in item.body if isinstance(func, ast.FunctionDef)]\n",
    "\n",
    "functions = [item for item in tree.body if isinstance(item, ast.FunctionDef)]"
   ]
  },
  {
   "cell_type": "code",
   "execution_count": null,
   "id": "5239341b-dcb3-45ba-a59a-47bafa95282c",
   "metadata": {},
   "outputs": [],
   "source": [
    "func = functions[0]\n",
    "\n",
    "docstring = get_docstring(func, dirty_lines)\n",
    "\n",
    "pprint(docstring.splitlines())\n",
    "\n",
    "pprint(annotate_function(func, dirty_lines).splitlines())"
   ]
  },
  {
   "cell_type": "code",
   "execution_count": null,
   "id": "b91d2e4e-d9d2-46fb-8f5e-355a88ff8c3e",
   "metadata": {},
   "outputs": [],
   "source": []
  }
 ],
 "metadata": {
  "kernelspec": {
   "display_name": "Python 3 (ipykernel)",
   "language": "python",
   "name": "python3"
  },
  "language_info": {
   "codemirror_mode": {
    "name": "ipython",
    "version": 3
   },
   "file_extension": ".py",
   "mimetype": "text/x-python",
   "name": "python",
   "nbconvert_exporter": "python",
   "pygments_lexer": "ipython3",
   "version": "3.10.6"
  }
 },
 "nbformat": 4,
 "nbformat_minor": 5
}
