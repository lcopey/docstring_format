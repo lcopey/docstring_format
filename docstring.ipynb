{
 "cells": [
  {
   "cell_type": "code",
   "execution_count": 1,
   "id": "12b7c880-5350-45ec-a474-e6677c6212dd",
   "metadata": {},
   "outputs": [],
   "source": [
    "%load_ext autoreload\n",
    "%autoreload 2\n",
    "\n",
    "import ast\n",
    "from pathlib import Path\n",
    "from pprint import pprint\n",
    "from docstring_format import *"
   ]
  },
  {
   "cell_type": "code",
   "execution_count": 2,
   "id": "d71bef59-81bb-4684-8a35-37ce86385bc4",
   "metadata": {},
   "outputs": [],
   "source": [
    "# file = Path('equation_parser/functions.py')\n",
    "file = Path('./tests/dummy_tests_functions.py')\n",
    "\n",
    "raw_text = file.read_text()\n",
    "dirty_lines = raw_text.splitlines()\n",
    "tree = ast.parse(raw_text)\n",
    "\n",
    "classes = [item for item in tree.body if isinstance(item, ast.ClassDef)]\n",
    "\n",
    "class_methods = [func for item in classes for func in item.body if isinstance(func, ast.FunctionDef)]\n",
    "\n",
    "functions = [item for item in tree.body if isinstance(item, ast.FunctionDef)]"
   ]
  },
  {
   "cell_type": "markdown",
   "id": "1b94c7ee-0a7f-4994-9d88-e8a8e7d33079",
   "metadata": {},
   "source": [
    "# File annotations"
   ]
  },
  {
   "cell_type": "code",
   "execution_count": 8,
   "id": "c9e147ef-facc-4dae-b4ec-068c1013b891",
   "metadata": {},
   "outputs": [
    {
     "name": "stdout",
     "output_type": "stream",
     "text": [
      "<ast.Name object at 0x0000018A79757610>\n",
      "<ast.Name object at 0x0000018A79755F00>\n",
      "<ast.Subscript object at 0x0000018A79757340>\n",
      "<ast.Subscript object at 0x0000018A79755E40>\n",
      "<ast.Subscript object at 0x0000018A79755750>\n",
      "<ast.Constant object at 0x0000018A79756A10>\n",
      "None\n"
     ]
    }
   ],
   "source": [
    "for func in functions:\n",
    "    for item in func.args.args:\n",
    "        print(item.annotation)"
   ]
  },
  {
   "cell_type": "code",
   "execution_count": 9,
   "id": "4e282281-4e99-4e81-902a-eab438ab16d8",
   "metadata": {},
   "outputs": [],
   "source": [
    "lines = dirty_lines.copy()\n",
    "for func in functions:\n",
    "    lines = annotate_function(func, lines)\n",
    "    \n",
    "for method in class_methods:\n",
    "    lines = annotate_function(method, lines)"
   ]
  },
  {
   "cell_type": "code",
   "execution_count": 10,
   "id": "1573b93b-1395-470d-98f6-a80ac8c06075",
   "metadata": {},
   "outputs": [
    {
     "data": {
      "text/plain": [
       "['from typing import Iterable, Optional',\n",
       " '',\n",
       " '',\n",
       " 'def function1(arg1: str):',\n",
       " '    \"\"\"',\n",
       " '    AZrojrltndflg lejkkjntgdf',\n",
       " '',\n",
       " '    Parameters',\n",
       " '    ----------',\n",
       " '    arg1: test',\n",
       " '',\n",
       " '    Returns',\n",
       " '    -------',\n",
       " '',\n",
       " '    \"\"\"',\n",
       " '    pass',\n",
       " '',\n",
       " '',\n",
       " 'def function2(arg1: list, ) -> str:',\n",
       " '    \"\"\"A function doing something',\n",
       " '',\n",
       " '',\n",
       " '    Second paragraph.',\n",
       " '    ',\n",
       " '    Third paragraph',\n",
       " '    Parameters',\n",
       " '    ----------',\n",
       " '    arg1 (list): This does something',\n",
       " '',\n",
       " '    \"\"\"',\n",
       " '    pass',\n",
       " '',\n",
       " '',\n",
       " 'def function3(arg1: Optional[Iterable] = None) -> dict:',\n",
       " '    \"\"\"',\n",
       " '',\n",
       " '    Parameters',\n",
       " '    ----------',\n",
       " '    arg1',\n",
       " '',\n",
       " '    Returns',\n",
       " '    -------',\n",
       " '',\n",
       " '    \"\"\"',\n",
       " '    pass',\n",
       " '',\n",
       " '',\n",
       " 'def function4(arg1: Optional[Iterable] = None, arg2: Optional[tuple] = None) -> dict:',\n",
       " '    \"\"\"',\n",
       " '',\n",
       " '    Parameters',\n",
       " '    ----------',\n",
       " '    arg1: this does that',\n",
       " '',\n",
       " '    Returns',\n",
       " '    -------',\n",
       " '',\n",
       " '    \"\"\"',\n",
       " '    pass',\n",
       " '',\n",
       " '',\n",
       " 'def delta(',\n",
       " '        values: \"Union[pd.DataFrame, pd.Series]\", ref_id',\n",
       " ') -> \"Union[pd.DataFrame, pd.Series]\":',\n",
       " '    \"\"\"Compute the difference of values with respect to ref_id.',\n",
       " '',\n",
       " '    Parameters',\n",
       " '    ----------',\n",
       " '    values: values to compute from',\n",
       " '    ref_id: delta values are computed with respect to that reference. It should be valid index or a list of valid',\n",
       " '     index from values.',\n",
       " '    -------',\n",
       " '',\n",
       " '    \"\"\"',\n",
       " '    # ref_values = _get_ref_values(values, ref_id)',\n",
       " '    # return values - ref_values',\n",
       " '    pass']"
      ]
     },
     "execution_count": 10,
     "metadata": {},
     "output_type": "execute_result"
    }
   ],
   "source": [
    "dirty_lines"
   ]
  },
  {
   "cell_type": "code",
   "execution_count": 11,
   "id": "21fa9148-88ad-4423-8cfa-8ed1cedfe6d3",
   "metadata": {},
   "outputs": [
    {
     "data": {
      "text/plain": [
       "['from typing import Iterable, Optional',\n",
       " '',\n",
       " '',\n",
       " 'def function1(arg1: str):',\n",
       " '    \"\"\"',\n",
       " '    AZrojrltndflg lejkkjntgdf',\n",
       " '',\n",
       " '    Parameters',\n",
       " '    ----------',\n",
       " '    arg1 (str): test',\n",
       " '',\n",
       " '    Returns',\n",
       " '    -------',\n",
       " '',\n",
       " '    \"\"\"',\n",
       " '    pass',\n",
       " '',\n",
       " '',\n",
       " 'def function2(arg1: list, ) -> str:',\n",
       " '    \"\"\"A function doing something',\n",
       " '',\n",
       " '',\n",
       " '    Second paragraph.',\n",
       " '    ',\n",
       " '    Third paragraph',\n",
       " '    Parameters',\n",
       " '    ----------',\n",
       " '    arg1 (list): This does something',\n",
       " '',\n",
       " '    \"\"\"',\n",
       " '    pass',\n",
       " '',\n",
       " '',\n",
       " 'def function3(arg1: Optional[Iterable] = None) -> dict:',\n",
       " '    \"\"\"',\n",
       " '',\n",
       " '    Parameters',\n",
       " '    ----------',\n",
       " '    arg1',\n",
       " '',\n",
       " '    Returns',\n",
       " '    -------',\n",
       " '',\n",
       " '    \"\"\"',\n",
       " '    pass',\n",
       " '',\n",
       " '',\n",
       " 'def function4(arg1: Optional[Iterable] = None, arg2: Optional[tuple] = None) -> dict:',\n",
       " '    \"\"\"',\n",
       " '',\n",
       " '    Parameters',\n",
       " '    ----------',\n",
       " '    arg1 (Optional[Iterable]): this does that',\n",
       " '',\n",
       " '    Returns',\n",
       " '    -------',\n",
       " '',\n",
       " '    \"\"\"',\n",
       " '    pass',\n",
       " '',\n",
       " '',\n",
       " 'def delta(',\n",
       " '        values: \"Union[pd.DataFrame, pd.Series]\", ref_id',\n",
       " ') -> \"Union[pd.DataFrame, pd.Series]\":',\n",
       " '    \"\"\"Compute the difference of values with respect to ref_id.',\n",
       " '',\n",
       " '    Parameters',\n",
       " '    ----------',\n",
       " '    values (Union[pd.DataFrame, pd.Series]): values to compute from',\n",
       " '    ref_id: delta values are computed with respect to that reference. It should be valid index or a list of valid',\n",
       " '     index from values.',\n",
       " '    -------',\n",
       " '',\n",
       " '    \"\"\"',\n",
       " '    # ref_values = _get_ref_values(values, ref_id)',\n",
       " '    # return values - ref_values',\n",
       " '    pass']"
      ]
     },
     "execution_count": 11,
     "metadata": {},
     "output_type": "execute_result"
    }
   ],
   "source": [
    "lines"
   ]
  },
  {
   "cell_type": "code",
   "execution_count": null,
   "id": "83cb6f66-fe86-4403-8c8b-1ecddc8242a5",
   "metadata": {},
   "outputs": [],
   "source": [
    "start, length = get_docstring_lines(func, dirty_lines)\n",
    "corrected_docstring = annotate_function(func, dirty_lines)"
   ]
  },
  {
   "cell_type": "code",
   "execution_count": null,
   "id": "c65c863f-ff9c-4109-aa52-92a27abc5b14",
   "metadata": {},
   "outputs": [],
   "source": [
    "def correct_lines(dirty_lines, start, length, corrected_docstring):\n",
    "    corrected_lines = dirty_lines.copy()\n",
    "    [corrected_lines.pop(start) for _ in range(length)]\n",
    "    [corrected_lines.insert(start, line) for line in corrected_docstring.splitlines()[::-1]]\n",
    "    \n",
    "    return corrected_lines"
   ]
  },
  {
   "cell_type": "code",
   "execution_count": null,
   "id": "151a788d-7f56-4d28-863b-f3b346c28a51",
   "metadata": {},
   "outputs": [],
   "source": [
    "corrected_lines = correct_lines(dirty_lines, start, length, corrected_docstring)"
   ]
  },
  {
   "cell_type": "code",
   "execution_count": null,
   "id": "a386953a-3387-4132-a7e2-8c30bc1acefb",
   "metadata": {},
   "outputs": [],
   "source": [
    "corrected_lines[start:start+length]"
   ]
  },
  {
   "cell_type": "markdown",
   "id": "0dead519-a3d6-4bd9-9d09-8f7691362432",
   "metadata": {},
   "source": [
    "# Unittests"
   ]
  },
  {
   "cell_type": "code",
   "execution_count": null,
   "id": "3eef5f21-c88b-4a5d-8c25-074acf0fd928",
   "metadata": {
    "tags": []
   },
   "outputs": [],
   "source": [
    "from docstring_format.base import *\n",
    "import json"
   ]
  },
  {
   "cell_type": "code",
   "execution_count": null,
   "id": "9946bb46-4139-49e8-b1ca-09fb69118a64",
   "metadata": {},
   "outputs": [],
   "source": [
    "file = Path('./tests/dummy_tests_functions.py')\n",
    "\n",
    "raw_text = file.read_text()\n",
    "dirty_lines = raw_text.splitlines()\n",
    "tree = ast.parse(raw_text)\n",
    "\n",
    "classes = [item for item in tree.body if isinstance(item, ast.ClassDef)]\n",
    "class_methods = [func for item in classes for func in item.body if isinstance(func, ast.FunctionDef)]\n",
    "\n",
    "functions = [item for item in tree.body if isinstance(item, ast.FunctionDef)]\n",
    "\n",
    "results = {}\n",
    "for func in functions:\n",
    "    start, length = get_docstring_lines(func, dirty_lines)\n",
    "    results[func.name] = dict(zip(('start', 'length'), (start, length)))\n",
    "    \n",
    "    docstring = '\\n'.join(dirty_lines[start:start+length])\n",
    "    results[func.name]['sections'] = get_docstring_sections(docstring).to_dict()\n",
    "    \n",
    "    results[func.name]['docstring'] = annotate_function(func, dirty_lines)"
   ]
  },
  {
   "cell_type": "code",
   "execution_count": null,
   "id": "045ed164-0fa0-40ef-b438-31314d30abfc",
   "metadata": {},
   "outputs": [],
   "source": [
    "with open('./tests/dummy_results.json', mode='w') as f:\n",
    "    json.dump(results, f, indent=4)"
   ]
  },
  {
   "cell_type": "markdown",
   "id": "bda988f9-37f6-46f2-baa4-e30d7378220a",
   "metadata": {},
   "source": [
    "# Dev "
   ]
  },
  {
   "cell_type": "code",
   "execution_count": null,
   "id": "30790463-d8c0-4d6a-808d-1b28caca246c",
   "metadata": {},
   "outputs": [],
   "source": [
    "from docstring_format.base import *\n",
    "from docstring_format.constants import *\n",
    "import json"
   ]
  },
  {
   "cell_type": "code",
   "execution_count": null,
   "id": "40d939b9-ab00-41c7-80fa-80499606905b",
   "metadata": {},
   "outputs": [],
   "source": [
    "file = Path('equation_parser/constants.py')\n",
    "# file = Path('./tests/dummy_tests_functions.py')\n",
    "\n",
    "raw_text = file.read_text()\n",
    "dirty_lines = raw_text.splitlines()\n",
    "tree = ast.parse(raw_text)\n",
    "\n",
    "classes = [item for item in tree.body if isinstance(item, ast.ClassDef)]\n",
    "\n",
    "class_methods = [func for item in classes for func in item.body if isinstance(func, ast.FunctionDef)]\n",
    "\n",
    "functions = [item for item in tree.body if isinstance(item, ast.FunctionDef)]"
   ]
  },
  {
   "cell_type": "code",
   "execution_count": null,
   "id": "5239341b-dcb3-45ba-a59a-47bafa95282c",
   "metadata": {},
   "outputs": [],
   "source": [
    "func = functions[0]\n",
    "\n",
    "docstring = get_docstring(func, dirty_lines)\n",
    "\n",
    "pprint(docstring.splitlines())\n",
    "\n",
    "pprint(annotate_function(func, dirty_lines).splitlines())"
   ]
  },
  {
   "cell_type": "code",
   "execution_count": null,
   "id": "b91d2e4e-d9d2-46fb-8f5e-355a88ff8c3e",
   "metadata": {},
   "outputs": [],
   "source": []
  }
 ],
 "metadata": {
  "kernelspec": {
   "display_name": "Python 3 (ipykernel)",
   "language": "python",
   "name": "python3"
  },
  "language_info": {
   "codemirror_mode": {
    "name": "ipython",
    "version": 3
   },
   "file_extension": ".py",
   "mimetype": "text/x-python",
   "name": "python",
   "nbconvert_exporter": "python",
   "pygments_lexer": "ipython3",
   "version": "3.10.6"
  }
 },
 "nbformat": 4,
 "nbformat_minor": 5
}
