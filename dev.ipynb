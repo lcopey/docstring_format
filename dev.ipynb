{
 "cells": [
  {
   "cell_type": "code",
   "execution_count": 1,
   "id": "041beeba-2a28-4510-a512-036bf9662362",
   "metadata": {
    "tags": []
   },
   "outputs": [],
   "source": [
    "%load_ext autoreload\n",
    "%autoreload 2\n",
    "\n",
    "import ast\n",
    "from pathlib import Path\n",
    "from pprint import pprint"
   ]
  },
  {
   "cell_type": "code",
   "execution_count": 3,
   "id": "5cf0e47a-e95f-4b34-8bb7-45918418f1d8",
   "metadata": {},
   "outputs": [],
   "source": [
    "from docstring_format import *\n",
    "from docstring_format.base import *\n",
    "from docstring_format.constants import *\n",
    "import json"
   ]
  },
  {
   "cell_type": "code",
   "execution_count": 4,
   "id": "8f5a3f53-fb36-4789-9927-665b899db4c2",
   "metadata": {},
   "outputs": [],
   "source": [
    "def get_functions(raw_text: str):\n",
    "    # TODO walk the nodes ?\n",
    "    tree = ast.parse(raw_text)\n",
    "    \n",
    "    functions = [item for item in tree.body if isinstance(item, ast.FunctionDef)]\n",
    "    classes = [item for item in tree.body if isinstance(item, ast.ClassDef)]\n",
    "    class_methods = [func for item in classes for func in item.body if isinstance(func, ast.FunctionDef)]\n",
    "    functions.extend(class_methods)\n",
    "    return functions"
   ]
  },
  {
   "cell_type": "code",
   "execution_count": 5,
   "id": "4d58a8f6-e3e7-4ed3-9e29-f3d6edafe618",
   "metadata": {},
   "outputs": [],
   "source": [
    "file = Path('./tests/dummy_tests_functions.py')\n",
    "raw_text = file.read_text()\n",
    "functions = get_functions(raw_text)\n",
    "dirty_lines = raw_text.splitlines()"
   ]
  },
  {
   "cell_type": "code",
   "execution_count": 25,
   "id": "ed7a96f8-957d-4e5c-8b20-786841fe4162",
   "metadata": {},
   "outputs": [],
   "source": [
    "docstrings = []\n",
    "for func in functions:    \n",
    "    docstrings.append(Docstring.from_ast(func, dirty_lines))"
   ]
  },
  {
   "cell_type": "code",
   "execution_count": 32,
   "id": "6afd1402-8213-49bd-bc0d-96198f26b717",
   "metadata": {},
   "outputs": [],
   "source": [
    "for docstring in docstrings:\n",
    "    docstring.corrected_lines"
   ]
  },
  {
   "cell_type": "code",
   "execution_count": 31,
   "id": "007cbfbf-464e-4528-af58-8affd45efd8a",
   "metadata": {},
   "outputs": [
    {
     "data": {
      "text/plain": [
       "['    \"\"\"',\n",
       " '    Compute the difference of values with respect to ref_id.',\n",
       " '',\n",
       " '    Parameters',\n",
       " '    ----------',\n",
       " '    values : Union[pd.DataFrame, pd.Series]',\n",
       " '        Values to compute from',\n",
       " '    ref_id: delta values are computed with respect to that reference. It should be valid index or a list of valid',\n",
       " '    index from values.',\n",
       " '',\n",
       " '    Returns',\n",
       " '    -------',\n",
       " '    Union[pd.DataFrame, pd.Series]',\n",
       " '',\n",
       " '    \"\"\"']"
      ]
     },
     "execution_count": 31,
     "metadata": {},
     "output_type": "execute_result"
    }
   ],
   "source": [
    "docstring.corrected_lines"
   ]
  },
  {
   "cell_type": "code",
   "execution_count": null,
   "id": "e6de6728-3560-4fb7-ac47-932fe2861d05",
   "metadata": {},
   "outputs": [],
   "source": [
    "dirty_lines"
   ]
  }
 ],
 "metadata": {
  "kernelspec": {
   "display_name": "Python 3 (ipykernel)",
   "language": "python",
   "name": "python3"
  },
  "language_info": {
   "codemirror_mode": {
    "name": "ipython",
    "version": 3
   },
   "file_extension": ".py",
   "mimetype": "text/x-python",
   "name": "python",
   "nbconvert_exporter": "python",
   "pygments_lexer": "ipython3",
   "version": "3.10.6"
  }
 },
 "nbformat": 4,
 "nbformat_minor": 5
}
