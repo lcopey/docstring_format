{
 "cells": [
  {
   "cell_type": "code",
   "execution_count": 1,
   "id": "041beeba-2a28-4510-a512-036bf9662362",
   "metadata": {
    "tags": []
   },
   "outputs": [],
   "source": [
    "%load_ext autoreload\n",
    "%autoreload 2\n",
    "\n",
    "import ast\n",
    "from pathlib import Path\n",
    "from pprint import pprint"
   ]
  },
  {
   "cell_type": "code",
   "execution_count": 2,
   "id": "5cf0e47a-e95f-4b34-8bb7-45918418f1d8",
   "metadata": {},
   "outputs": [],
   "source": [
    "from docstring_format import *\n",
    "from docstring_format.base import *\n",
    "from docstring_format.constants import *\n",
    "import json"
   ]
  },
  {
   "cell_type": "code",
   "execution_count": 3,
   "id": "8f5a3f53-fb36-4789-9927-665b899db4c2",
   "metadata": {},
   "outputs": [],
   "source": [
    "def get_functions(raw_text: str):\n",
    "    # TODO walk the nodes ?\n",
    "    tree = ast.parse(raw_text)\n",
    "    \n",
    "    functions = [item for item in tree.body if isinstance(item, ast.FunctionDef)]\n",
    "    classes = [item for item in tree.body if isinstance(item, ast.ClassDef)]\n",
    "    class_methods = [func for item in classes for func in item.body if isinstance(func, ast.FunctionDef)]\n",
    "    functions.extend(class_methods)\n",
    "    return functions"
   ]
  },
  {
   "cell_type": "code",
   "execution_count": 173,
   "id": "4d58a8f6-e3e7-4ed3-9e29-f3d6edafe618",
   "metadata": {},
   "outputs": [],
   "source": [
    "file = Path('./tests/dummy_tests_functions.py')\n",
    "raw_text = file.read_text()\n",
    "functions = get_functions(raw_text)\n",
    "dirty_lines = raw_text.splitlines()"
   ]
  },
  {
   "cell_type": "code",
   "execution_count": 174,
   "id": "ed7a96f8-957d-4e5c-8b20-786841fe4162",
   "metadata": {},
   "outputs": [],
   "source": [
    "docstrings = []\n",
    "for func in functions:    \n",
    "    docstrings.append(Docstring.from_ast(func, dirty_lines))"
   ]
  },
  {
   "cell_type": "code",
   "execution_count": 178,
   "id": "6afd1402-8213-49bd-bc0d-96198f26b717",
   "metadata": {},
   "outputs": [],
   "source": [
    "for docstring in docstrings:\n",
    "    docstring.clean()"
   ]
  },
  {
   "cell_type": "code",
   "execution_count": 183,
   "id": "007cbfbf-464e-4528-af58-8affd45efd8a",
   "metadata": {},
   "outputs": [
    {
     "name": "stdout",
     "output_type": "stream",
     "text": [
      "[DocstringSection(name='Summary',\n",
      "                  type=<SectionType.SUMMARY: 2>,\n",
      "                  start=0,\n",
      "                  length=2,\n",
      "                  offset='    ',\n",
      "                  lines=['    \"\"\"Compute the difference of values with respect '\n",
      "                         'to ref_id.',\n",
      "                         ''],\n",
      "                  annotation=None,\n",
      "                  cleaned_lines=['    Compute the difference of values with '\n",
      "                                 'respect to ref_id.']),\n",
      " DocstringSection(name='Parameters',\n",
      "                  type=<SectionType.PARAMETER_DELIMITER: 4>,\n",
      "                  start=2,\n",
      "                  length=2,\n",
      "                  offset='    ',\n",
      "                  lines=['    Parameters', '    ----------'],\n",
      "                  annotation=None,\n",
      "                  cleaned_lines=['', '    Parameters', '    ----------']),\n",
      " DocstringSection(name='values',\n",
      "                  type=<SectionType.ARG: 1>,\n",
      "                  start=4,\n",
      "                  length=1,\n",
      "                  offset='    ',\n",
      "                  lines=['    values: values to compute from'],\n",
      "                  annotation='Union[pd.DataFrame, pd.Series]',\n",
      "                  cleaned_lines=['    values : Union[pd.DataFrame, pd.Series]',\n",
      "                                 '        Values to compute from']),\n",
      " DocstringSection(name='ref_id',\n",
      "                  type=<SectionType.ARG: 1>,\n",
      "                  start=5,\n",
      "                  length=3,\n",
      "                  offset='    ',\n",
      "                  lines=['    ref_id: delta values are computed with respect '\n",
      "                         'to that reference. It should be valid index or a '\n",
      "                         'list of valid',\n",
      "                         '     index from values.',\n",
      "                         ''],\n",
      "                  annotation=None,\n",
      "                  cleaned_lines=['ref_id: delta values are computed with '\n",
      "                                 'respect to that reference. It should be '\n",
      "                                 'valid index or a list of valid',\n",
      "                                 'index from values.']),\n",
      " DocstringSection(name='Returns',\n",
      "                  type=<SectionType.RETURNS: 3>,\n",
      "                  start=8,\n",
      "                  length=4,\n",
      "                  offset='    ',\n",
      "                  lines=['    Returns', '    -------', '', '    \"\"\"'],\n",
      "                  annotation='Union[pd.DataFrame, pd.Series]',\n",
      "                  cleaned_lines=['',\n",
      "                                 '    Returns',\n",
      "                                 '    -------',\n",
      "                                 '    Union[pd.DataFrame, pd.Series]'])]\n"
     ]
    }
   ],
   "source": [
    "pprint(docstring.sections)"
   ]
  },
  {
   "cell_type": "code",
   "execution_count": 199,
   "id": "e6de6728-3560-4fb7-ac47-932fe2861d05",
   "metadata": {},
   "outputs": [],
   "source": [
    "script = ScriptFile('./tests/dummy_tests_functions.py')"
   ]
  },
  {
   "cell_type": "code",
   "execution_count": 200,
   "id": "07576e5c-6aef-4e75-913a-061b7a5be7ab",
   "metadata": {},
   "outputs": [],
   "source": [
    "script.write_clean()"
   ]
  },
  {
   "cell_type": "code",
   "execution_count": 140,
   "id": "39612990-b57e-483f-9687-5c35e629a976",
   "metadata": {},
   "outputs": [
    {
     "data": {
      "text/plain": [
       "'./tests/dummy_tests_functions_edit.py'"
      ]
     },
     "execution_count": 140,
     "metadata": {},
     "output_type": "execute_result"
    }
   ],
   "source": [
    "re.sub('\\.py$', '_edit.py', script.file_path)"
   ]
  },
  {
   "cell_type": "code",
   "execution_count": 132,
   "id": "cf85da0b-a351-4479-a571-803e1cdc1231",
   "metadata": {},
   "outputs": [
    {
     "data": {
      "text/plain": [
       "['from typing import Iterable, Optional',\n",
       " '',\n",
       " '',\n",
       " 'def function1(arg1: str):',\n",
       " '    \"\"\"',\n",
       " '    AZrojrltndflg lejkkjntgdf',\n",
       " '',\n",
       " '    Parameters',\n",
       " '    ----------',\n",
       " '    arg1 : str',\n",
       " '        Test',\n",
       " '',\n",
       " '    Returns',\n",
       " '    -------',\n",
       " '',\n",
       " '    \"\"\"',\n",
       " '    pass',\n",
       " '',\n",
       " '',\n",
       " 'def function2(arg1: list, ) -> str:',\n",
       " '    \"\"\"',\n",
       " '    A function doing something',\n",
       " '    ',\n",
       " '    Second paragraph.',\n",
       " '    ',\n",
       " '    Third paragraph',\n",
       " '',\n",
       " '    Parameters',\n",
       " '    ----------',\n",
       " '    arg1 : list',\n",
       " '',\n",
       " '    \"\"\"',\n",
       " '    pass',\n",
       " '',\n",
       " '',\n",
       " 'def function3(arg1: Optional[Iterable] = None) -> dict:',\n",
       " '    \"\"\"',\n",
       " '',\n",
       " '    Parameters',\n",
       " '    ----------',\n",
       " '    arg1 : Optional[Iterable]',\n",
       " '',\n",
       " '    Returns',\n",
       " '    -------',\n",
       " '    dict',\n",
       " '',\n",
       " '    \"\"\"',\n",
       " '    pass',\n",
       " '',\n",
       " '',\n",
       " 'def function4(arg1: Optional[Iterable] = None, arg2: Optional[tuple] = None) -> dict:',\n",
       " '    \"\"\"',\n",
       " '',\n",
       " '    Parameters',\n",
       " '    ----------',\n",
       " '    arg1 : Optional[Iterable]',\n",
       " '        This does that',\n",
       " '',\n",
       " '    Returns',\n",
       " '    -------',\n",
       " '    dict',\n",
       " '',\n",
       " '    \"\"\"',\n",
       " '    pass',\n",
       " '',\n",
       " '',\n",
       " 'def delta(',\n",
       " '        values: \"Union[pd.DataFrame, pd.Series]\", ref_id',\n",
       " ') -> \"Union[pd.DataFrame, pd.Series]\":',\n",
       " '    \"\"\"',\n",
       " '    Compute the difference of values with respect to ref_id.',\n",
       " '',\n",
       " '    Parameters',\n",
       " '    ----------',\n",
       " '    values : Union[pd.DataFrame, pd.Series]',\n",
       " '        Values to compute from',\n",
       " '    ref_id: delta values are computed with respect to that reference. It should be valid index or a list of valid',\n",
       " '    index from values.',\n",
       " '    -------',\n",
       " '',\n",
       " '    \"\"\"',\n",
       " '    # ref_values = _get_ref_values(values, ref_id)',\n",
       " '    # return values - ref_values',\n",
       " '    pass',\n",
       " '',\n",
       " '',\n",
       " 'def delta_w_returns(',\n",
       " '        values: \"Union[pd.DataFrame, pd.Series]\", ref_id',\n",
       " ') -> \"Union[pd.DataFrame, pd.Series]\":',\n",
       " '    \"\"\"',\n",
       " '    Compute the difference of values with respect to ref_id.',\n",
       " '',\n",
       " '    Parameters',\n",
       " '    ----------',\n",
       " '    values : Union[pd.DataFrame, pd.Series]',\n",
       " '        Values to compute from',\n",
       " '    ref_id: delta values are computed with respect to that reference. It should be valid index or a list of valid',\n",
       " '    index from values.',\n",
       " '',\n",
       " '    Returns',\n",
       " '    -------',\n",
       " '    Union[pd.DataFrame, pd.Series]',\n",
       " '',\n",
       " '    \"\"\"',\n",
       " '    # ref_values = _get_ref_values(values, ref_id)',\n",
       " '    # return values - ref_values',\n",
       " '    pass']"
      ]
     },
     "execution_count": 132,
     "metadata": {},
     "output_type": "execute_result"
    }
   ],
   "source": [
    "script.clean()"
   ]
  }
 ],
 "metadata": {
  "kernelspec": {
   "display_name": "Python 3 (ipykernel)",
   "language": "python",
   "name": "python3"
  },
  "language_info": {
   "codemirror_mode": {
    "name": "ipython",
    "version": 3
   },
   "file_extension": ".py",
   "mimetype": "text/x-python",
   "name": "python",
   "nbconvert_exporter": "python",
   "pygments_lexer": "ipython3",
   "version": "3.10.6"
  }
 },
 "nbformat": 4,
 "nbformat_minor": 5
}
