{
 "cells": [
  {
   "cell_type": "code",
   "execution_count": 1,
   "id": "041beeba-2a28-4510-a512-036bf9662362",
   "metadata": {
    "tags": []
   },
   "outputs": [],
   "source": [
    "%load_ext autoreload\n",
    "%autoreload 2\n",
    "\n",
    "import ast\n",
    "from pathlib import Path\n",
    "from pprint import pprint"
   ]
  },
  {
   "cell_type": "code",
   "execution_count": 2,
   "id": "5cf0e47a-e95f-4b34-8bb7-45918418f1d8",
   "metadata": {},
   "outputs": [],
   "source": [
    "from docstring_format import *\n",
    "from docstring_format.base import *\n",
    "from docstring_format.constants import *\n",
    "import json"
   ]
  },
  {
   "cell_type": "code",
   "execution_count": 3,
   "id": "8f5a3f53-fb36-4789-9927-665b899db4c2",
   "metadata": {},
   "outputs": [],
   "source": [
    "def get_functions(raw_text: str):\n",
    "    # TODO walk the nodes ?\n",
    "    tree = ast.parse(raw_text)\n",
    "    \n",
    "    functions = [item for item in tree.body if isinstance(item, ast.FunctionDef)]\n",
    "    classes = [item for item in tree.body if isinstance(item, ast.ClassDef)]\n",
    "    class_methods = [func for item in classes for func in item.body if isinstance(func, ast.FunctionDef)]\n",
    "    functions.extend(class_methods)\n",
    "    return functions"
   ]
  },
  {
   "cell_type": "code",
   "execution_count": 173,
   "id": "4d58a8f6-e3e7-4ed3-9e29-f3d6edafe618",
   "metadata": {},
   "outputs": [],
   "source": [
    "file = Path('./tests/dummy_tests_functions.py')\n",
    "raw_text = file.read_text()\n",
    "functions = get_functions(raw_text)\n",
    "dirty_lines = raw_text.splitlines()"
   ]
  },
  {
   "cell_type": "code",
   "execution_count": 174,
   "id": "ed7a96f8-957d-4e5c-8b20-786841fe4162",
   "metadata": {},
   "outputs": [],
   "source": [
    "docstrings = []\n",
    "for func in functions:    \n",
    "    docstrings.append(Docstring.from_ast(func, dirty_lines))"
   ]
  },
  {
   "cell_type": "code",
   "execution_count": 178,
   "id": "6afd1402-8213-49bd-bc0d-96198f26b717",
   "metadata": {},
   "outputs": [],
   "source": [
    "for docstring in docstrings:\n",
    "    docstring.clean()"
   ]
  },
  {
   "cell_type": "code",
   "execution_count": 183,
   "id": "007cbfbf-464e-4528-af58-8affd45efd8a",
   "metadata": {},
   "outputs": [
    {
     "name": "stdout",
     "output_type": "stream",
     "text": [
      "[DocstringSection(name='Summary',\n",
      "                  type=<SectionType.SUMMARY: 2>,\n",
      "                  start=0,\n",
      "                  length=2,\n",
      "                  offset='    ',\n",
      "                  lines=['    \"\"\"Compute the difference of values with respect '\n",
      "                         'to ref_id.',\n",
      "                         ''],\n",
      "                  annotation=None,\n",
      "                  cleaned_lines=['    Compute the difference of values with '\n",
      "                                 'respect to ref_id.']),\n",
      " DocstringSection(name='Parameters',\n",
      "                  type=<SectionType.PARAMETER_DELIMITER: 4>,\n",
      "                  start=2,\n",
      "                  length=2,\n",
      "                  offset='    ',\n",
      "                  lines=['    Parameters', '    ----------'],\n",
      "                  annotation=None,\n",
      "                  cleaned_lines=['', '    Parameters', '    ----------']),\n",
      " DocstringSection(name='values',\n",
      "                  type=<SectionType.ARG: 1>,\n",
      "                  start=4,\n",
      "                  length=1,\n",
      "                  offset='    ',\n",
      "                  lines=['    values: values to compute from'],\n",
      "                  annotation='Union[pd.DataFrame, pd.Series]',\n",
      "                  cleaned_lines=['    values : Union[pd.DataFrame, pd.Series]',\n",
      "                                 '        Values to compute from']),\n",
      " DocstringSection(name='ref_id',\n",
      "                  type=<SectionType.ARG: 1>,\n",
      "                  start=5,\n",
      "                  length=3,\n",
      "                  offset='    ',\n",
      "                  lines=['    ref_id: delta values are computed with respect '\n",
      "                         'to that reference. It should be valid index or a '\n",
      "                         'list of valid',\n",
      "                         '     index from values.',\n",
      "                         ''],\n",
      "                  annotation=None,\n",
      "                  cleaned_lines=['ref_id: delta values are computed with '\n",
      "                                 'respect to that reference. It should be '\n",
      "                                 'valid index or a list of valid',\n",
      "                                 'index from values.']),\n",
      " DocstringSection(name='Returns',\n",
      "                  type=<SectionType.RETURNS: 3>,\n",
      "                  start=8,\n",
      "                  length=4,\n",
      "                  offset='    ',\n",
      "                  lines=['    Returns', '    -------', '', '    \"\"\"'],\n",
      "                  annotation='Union[pd.DataFrame, pd.Series]',\n",
      "                  cleaned_lines=['',\n",
      "                                 '    Returns',\n",
      "                                 '    -------',\n",
      "                                 '    Union[pd.DataFrame, pd.Series]'])]\n"
     ]
    }
   ],
   "source": [
    "pprint(docstring.sections)"
   ]
  },
  {
   "cell_type": "code",
   "execution_count": 186,
   "id": "e6de6728-3560-4fb7-ac47-932fe2861d05",
   "metadata": {},
   "outputs": [],
   "source": [
    "script = ScriptFile('./tests/dummy_tests_functions.py')"
   ]
  },
  {
   "cell_type": "code",
   "execution_count": 187,
   "id": "07576e5c-6aef-4e75-913a-061b7a5be7ab",
   "metadata": {},
   "outputs": [],
   "source": [
    "script.write_clean()"
   ]
  },
  {
   "cell_type": "code",
   "execution_count": 140,
   "id": "39612990-b57e-483f-9687-5c35e629a976",
   "metadata": {},
   "outputs": [
    {
     "data": {
      "text/plain": [
       "'./tests/dummy_tests_functions_edit.py'"
      ]
     },
     "execution_count": 140,
     "metadata": {},
     "output_type": "execute_result"
    }
   ],
   "source": [
    "re.sub('\\.py$', '_edit.py', script.file_path)"
   ]
  },
  {
   "cell_type": "code",
   "execution_count": 132,
   "id": "cf85da0b-a351-4479-a571-803e1cdc1231",
   "metadata": {},
   "outputs": [
    {
     "data": {
      "text/plain": [
       "['from typing import Iterable, Optional',\n",
       " '',\n",
       " '',\n",
       " 'def function1(arg1: str):',\n",
       " '    \"\"\"',\n",
       " '    AZrojrltndflg lejkkjntgdf',\n",
       " '',\n",
       " '    Parameters',\n",
       " '    ----------',\n",
       " '    arg1 : str',\n",
       " '        Test',\n",
       " '',\n",
       " '    Returns',\n",
       " '    -------',\n",
       " '',\n",
       " '    \"\"\"',\n",
       " '    pass',\n",
       " '',\n",
       " '',\n",
       " 'def function2(arg1: list, ) -> str:',\n",
       " '    \"\"\"',\n",
       " '    A function doing something',\n",
       " '    ',\n",
       " '    Second paragraph.',\n",
       " '    ',\n",
       " '    Third paragraph',\n",
       " '',\n",
       " '    Parameters',\n",
       " '    ----------',\n",
       " '    arg1 : list',\n",
       " '',\n",
       " '    \"\"\"',\n",
       " '    pass',\n",
       " '',\n",
       " '',\n",
       " 'def function3(arg1: Optional[Iterable] = None) -> dict:',\n",
       " '    \"\"\"',\n",
       " '',\n",
       " '    Parameters',\n",
       " '    ----------',\n",
       " '    arg1 : Optional[Iterable]',\n",
       " '',\n",
       " '    Returns',\n",
       " '    -------',\n",
       " '    dict',\n",
       " '',\n",
       " '    \"\"\"',\n",
       " '    pass',\n",
       " '',\n",
       " '',\n",
       " 'def function4(arg1: Optional[Iterable] = None, arg2: Optional[tuple] = None) -> dict:',\n",
       " '    \"\"\"',\n",
       " '',\n",
       " '    Parameters',\n",
       " '    ----------',\n",
       " '    arg1 : Optional[Iterable]',\n",
       " '        This does that',\n",
       " '',\n",
       " '    Returns',\n",
       " '    -------',\n",
       " '    dict',\n",
       " '',\n",
       " '    \"\"\"',\n",
       " '    pass',\n",
       " '',\n",
       " '',\n",
       " 'def delta(',\n",
       " '        values: \"Union[pd.DataFrame, pd.Series]\", ref_id',\n",
       " ') -> \"Union[pd.DataFrame, pd.Series]\":',\n",
       " '    \"\"\"',\n",
       " '    Compute the difference of values with respect to ref_id.',\n",
       " '',\n",
       " '    Parameters',\n",
       " '    ----------',\n",
       " '    values : Union[pd.DataFrame, pd.Series]',\n",
       " '        Values to compute from',\n",
       " '    ref_id: delta values are computed with respect to that reference. It should be valid index or a list of valid',\n",
       " '    index from values.',\n",
       " '    -------',\n",
       " '',\n",
       " '    \"\"\"',\n",
       " '    # ref_values = _get_ref_values(values, ref_id)',\n",
       " '    # return values - ref_values',\n",
       " '    pass',\n",
       " '',\n",
       " '',\n",
       " 'def delta_w_returns(',\n",
       " '        values: \"Union[pd.DataFrame, pd.Series]\", ref_id',\n",
       " ') -> \"Union[pd.DataFrame, pd.Series]\":',\n",
       " '    \"\"\"',\n",
       " '    Compute the difference of values with respect to ref_id.',\n",
       " '',\n",
       " '    Parameters',\n",
       " '    ----------',\n",
       " '    values : Union[pd.DataFrame, pd.Series]',\n",
       " '        Values to compute from',\n",
       " '    ref_id: delta values are computed with respect to that reference. It should be valid index or a list of valid',\n",
       " '    index from values.',\n",
       " '',\n",
       " '    Returns',\n",
       " '    -------',\n",
       " '    Union[pd.DataFrame, pd.Series]',\n",
       " '',\n",
       " '    \"\"\"',\n",
       " '    # ref_values = _get_ref_values(values, ref_id)',\n",
       " '    # return values - ref_values',\n",
       " '    pass']"
      ]
     },
     "execution_count": 132,
     "metadata": {},
     "output_type": "execute_result"
    }
   ],
   "source": [
    "script.clean()"
   ]
  },
  {
   "cell_type": "code",
   "execution_count": 107,
   "id": "4de3cb62-1cec-4b05-83da-1a62d19a706a",
   "metadata": {},
   "outputs": [
    {
     "data": {
      "text/plain": [
       "[None, None, None, None, None, None, None, None, None, None, None, None]"
      ]
     },
     "execution_count": 107,
     "metadata": {},
     "output_type": "execute_result"
    }
   ],
   "source": [
    "offset = 0\n",
    "cleaned = script.lines.copy()\n",
    "docstring = script.docstrings[0]\n",
    "new_lines = docstring.clean()\n",
    "[cleaned.pop(docstring.start + offset) for _ in range(docstring.length)]\n",
    "[cleaned.insert(docstring.start + offset, line) for line in new_lines[::-1]]"
   ]
  },
  {
   "cell_type": "code",
   "execution_count": 108,
   "id": "b30e5451-9863-4f2e-9363-0e999ad09dc1",
   "metadata": {},
   "outputs": [],
   "source": [
    "offset += len(new_lines) - docstring.length"
   ]
  },
  {
   "cell_type": "code",
   "execution_count": 115,
   "id": "5ab54258-30e1-473d-9cf0-a8bcd8ce254b",
   "metadata": {},
   "outputs": [
    {
     "data": {
      "text/plain": [
       "[None, None, None, None, None, None, None, None, None, None, None]"
      ]
     },
     "execution_count": 115,
     "metadata": {},
     "output_type": "execute_result"
    }
   ],
   "source": [
    "docstring = script.docstrings[1]\n",
    "new_lines = docstring.clean()\n",
    "[cleaned.pop(docstring.start + offset) for _ in range(docstring.length)]\n",
    "[cleaned.insert(docstring.start + offset, line) for line in new_lines[::-1]]"
   ]
  },
  {
   "cell_type": "code",
   "execution_count": 119,
   "id": "49f37673-5c3e-4e61-8906-dd20d41d62e3",
   "metadata": {},
   "outputs": [
    {
     "name": "stdout",
     "output_type": "stream",
     "text": [
      "[Section(name='Summary',\n",
      "         type=<SectionType.SUMMARY: 2>,\n",
      "         start=0,\n",
      "         length=6,\n",
      "         offset='    ',\n",
      "         lines=['    \"\"\"A function doing something',\n",
      "                '',\n",
      "                '',\n",
      "                '    Second paragraph.',\n",
      "                '    ',\n",
      "                '    Third paragraph'],\n",
      "         annotation=None,\n",
      "         corrected_lines=['    \"\"\"',\n",
      "                          '    A function doing something',\n",
      "                          '    ',\n",
      "                          '    ',\n",
      "                          '    Second paragraph.',\n",
      "                          '    ',\n",
      "                          '    Third paragraph',\n",
      "                          '']),\n",
      " Section(name='Parameters',\n",
      "         type=<SectionType.PARAMETER_DELIMITER: 4>,\n",
      "         start=6,\n",
      "         length=2,\n",
      "         offset='    ',\n",
      "         lines=['    Parameters', '    ----------'],\n",
      "         annotation=None,\n",
      "         corrected_lines=['    Parameters', '    ----------']),\n",
      " Section(name='arg1',\n",
      "         type=<SectionType.ARG: 1>,\n",
      "         start=8,\n",
      "         length=3,\n",
      "         offset='    ',\n",
      "         lines=['    arg1 (list): This does something', '', '    \"\"\"'],\n",
      "         annotation='list',\n",
      "         corrected_lines=['    arg1 : list'])]\n"
     ]
    }
   ],
   "source": [
    "pprint(docstring.sections)"
   ]
  },
  {
   "cell_type": "code",
   "execution_count": 116,
   "id": "a579ccef-429f-470c-846e-07966c20ebf5",
   "metadata": {},
   "outputs": [
    {
     "data": {
      "text/plain": [
       "['from typing import Iterable, Optional',\n",
       " '',\n",
       " '',\n",
       " 'def function1(arg1: str):',\n",
       " '    \"\"\"',\n",
       " '    AZrojrltndflg lejkkjntgdf',\n",
       " '',\n",
       " '    Parameters',\n",
       " '    ----------',\n",
       " '    arg1 : str',\n",
       " '        Test',\n",
       " '',\n",
       " '    Returns',\n",
       " '    -------',\n",
       " '',\n",
       " '    \"\"\"',\n",
       " '    pass',\n",
       " '',\n",
       " '',\n",
       " 'def function2(arg1: list, ) -> str:',\n",
       " '    \"\"\"',\n",
       " '    A function doing something',\n",
       " '    ',\n",
       " '    ',\n",
       " '    Second paragraph.',\n",
       " '    ',\n",
       " '    Third paragraph',\n",
       " '',\n",
       " '    Parameters',\n",
       " '    ----------',\n",
       " '    arg1 : list',\n",
       " '    pass',\n",
       " '',\n",
       " '',\n",
       " 'def function3(arg1: Optional[Iterable] = None) -> dict:',\n",
       " '    \"\"\"',\n",
       " '',\n",
       " '    Parameters',\n",
       " '    ----------',\n",
       " '    arg1',\n",
       " '',\n",
       " '    Returns',\n",
       " '    -------',\n",
       " '',\n",
       " '    \"\"\"',\n",
       " '    pass',\n",
       " '',\n",
       " '',\n",
       " 'def function4(arg1: Optional[Iterable] = None, arg2: Optional[tuple] = None) -> dict:',\n",
       " '    \"\"\"',\n",
       " '',\n",
       " '    Parameters',\n",
       " '    ----------',\n",
       " '    arg1: this does that',\n",
       " '',\n",
       " '    Returns',\n",
       " '    -------',\n",
       " '',\n",
       " '    \"\"\"',\n",
       " '    pass',\n",
       " '',\n",
       " '',\n",
       " 'def delta(',\n",
       " '        values: \"Union[pd.DataFrame, pd.Series]\", ref_id',\n",
       " ') -> \"Union[pd.DataFrame, pd.Series]\":',\n",
       " '    \"\"\"Compute the difference of values with respect to ref_id.',\n",
       " '',\n",
       " '    Parameters',\n",
       " '    ----------',\n",
       " '    values: values to compute from',\n",
       " '    ref_id: delta values are computed with respect to that reference. It should be valid index or a list of valid',\n",
       " '     index from values.',\n",
       " '    -------',\n",
       " '',\n",
       " '    \"\"\"',\n",
       " '    # ref_values = _get_ref_values(values, ref_id)',\n",
       " '    # return values - ref_values',\n",
       " '    pass',\n",
       " '',\n",
       " '',\n",
       " 'def delta_w_returns(',\n",
       " '        values: \"Union[pd.DataFrame, pd.Series]\", ref_id',\n",
       " ') -> \"Union[pd.DataFrame, pd.Series]\":',\n",
       " '    \"\"\"Compute the difference of values with respect to ref_id.',\n",
       " '',\n",
       " '    Parameters',\n",
       " '    ----------',\n",
       " '    values: values to compute from',\n",
       " '    ref_id: delta values are computed with respect to that reference. It should be valid index or a list of valid',\n",
       " '     index from values.',\n",
       " '',\n",
       " '    Returns',\n",
       " '    -------',\n",
       " '',\n",
       " '    \"\"\"',\n",
       " '    # ref_values = _get_ref_values(values, ref_id)',\n",
       " '    # return values - ref_values',\n",
       " '    pass']"
      ]
     },
     "execution_count": 116,
     "metadata": {},
     "output_type": "execute_result"
    }
   ],
   "source": [
    "cleaned"
   ]
  },
  {
   "cell_type": "code",
   "execution_count": 95,
   "id": "c924428d-790e-4489-8dc5-58bb72ef47b3",
   "metadata": {},
   "outputs": [],
   "source": [
    "docstring = script.docstrings[1]"
   ]
  },
  {
   "cell_type": "code",
   "execution_count": 96,
   "id": "5ad3ce5a-cf7b-4944-9966-7177aa549f9a",
   "metadata": {},
   "outputs": [],
   "source": [
    "offset = 1"
   ]
  },
  {
   "cell_type": "code",
   "execution_count": 97,
   "id": "dbf218ed-f7c6-48ab-b011-5128fa436f44",
   "metadata": {},
   "outputs": [
    {
     "data": {
      "text/plain": [
       "['    \"\"\"A function doing something',\n",
       " '',\n",
       " '',\n",
       " '    Second paragraph.',\n",
       " '    ',\n",
       " '    Third paragraph',\n",
       " '    Parameters',\n",
       " '    ----------',\n",
       " '    arg1 (list): This does something',\n",
       " '',\n",
       " '    \"\"\"']"
      ]
     },
     "execution_count": 97,
     "metadata": {},
     "output_type": "execute_result"
    }
   ],
   "source": [
    "cleaned[docstring.start+offset:docstring.start+offset+docstring.length]"
   ]
  },
  {
   "cell_type": "code",
   "execution_count": 59,
   "id": "a30840ea-8171-43a8-b454-b70e65ce1ab3",
   "metadata": {},
   "outputs": [
    {
     "data": {
      "text/plain": [
       "1"
      ]
     },
     "execution_count": 59,
     "metadata": {},
     "output_type": "execute_result"
    }
   ],
   "source": [
    "len(docstring.clean()) - docstring.length"
   ]
  },
  {
   "cell_type": "code",
   "execution_count": 58,
   "id": "b1c2b9b4-f189-42fb-8d27-de6a5ba3df74",
   "metadata": {},
   "outputs": [
    {
     "data": {
      "text/plain": [
       "98"
      ]
     },
     "execution_count": 58,
     "metadata": {},
     "output_type": "execute_result"
    }
   ],
   "source": [
    "len(cleaned)"
   ]
  },
  {
   "cell_type": "code",
   "execution_count": 35,
   "id": "c4b64c77-1ca8-4fb7-b1f9-d2e32b0d64f3",
   "metadata": {},
   "outputs": [
    {
     "data": {
      "text/plain": [
       "['from typing import Iterable, Optional',\n",
       " '',\n",
       " '',\n",
       " 'def function1(arg1: str):',\n",
       " '    \"\"\"',\n",
       " '    AZrojrltndflg lejkkjntgdf',\n",
       " '',\n",
       " '    Parameters',\n",
       " '    ----------',\n",
       " '    arg1 : str',\n",
       " '        Test',\n",
       " '',\n",
       " '    Returns',\n",
       " '    -------',\n",
       " '',\n",
       " '    \"\"\"',\n",
       " '    pass',\n",
       " '',\n",
       " '',\n",
       " 'def function2(arg1: list, ) -> str:',\n",
       " '    \"\"\"A function doing something',\n",
       " '',\n",
       " '',\n",
       " '    Second paragraph.',\n",
       " '    ',\n",
       " '    Third paragraph',\n",
       " '    Parameters',\n",
       " '    ----------',\n",
       " '    arg1 (list): This does something',\n",
       " '',\n",
       " '    \"\"\"',\n",
       " '    pass',\n",
       " '',\n",
       " '',\n",
       " 'def function3(arg1: Optional[Iterable] = None) -> dict:',\n",
       " '    \"\"\"',\n",
       " '',\n",
       " '    Parameters',\n",
       " '    ----------',\n",
       " '    arg1',\n",
       " '',\n",
       " '    Returns',\n",
       " '    -------',\n",
       " '',\n",
       " '    \"\"\"',\n",
       " '    pass',\n",
       " '',\n",
       " '',\n",
       " 'def function4(arg1: Optional[Iterable] = None, arg2: Optional[tuple] = None) -> dict:',\n",
       " '    \"\"\"',\n",
       " '',\n",
       " '    Parameters',\n",
       " '    ----------',\n",
       " '    arg1: this does that',\n",
       " '',\n",
       " '    Returns',\n",
       " '    -------',\n",
       " '',\n",
       " '    \"\"\"',\n",
       " '    pass',\n",
       " '',\n",
       " '',\n",
       " 'def delta(',\n",
       " '        values: \"Union[pd.DataFrame, pd.Series]\", ref_id',\n",
       " ') -> \"Union[pd.DataFrame, pd.Series]\":',\n",
       " '    \"\"\"Compute the difference of values with respect to ref_id.',\n",
       " '',\n",
       " '    Parameters',\n",
       " '    ----------',\n",
       " '    values: values to compute from',\n",
       " '    ref_id: delta values are computed with respect to that reference. It should be valid index or a list of valid',\n",
       " '     index from values.',\n",
       " '    -------',\n",
       " '',\n",
       " '    \"\"\"',\n",
       " '    # ref_values = _get_ref_values(values, ref_id)',\n",
       " '    # return values - ref_values',\n",
       " '    pass',\n",
       " '',\n",
       " '',\n",
       " 'def delta_w_returns(',\n",
       " '        values: \"Union[pd.DataFrame, pd.Series]\", ref_id',\n",
       " ') -> \"Union[pd.DataFrame, pd.Series]\":',\n",
       " '    \"\"\"Compute the difference of values with respect to ref_id.',\n",
       " '',\n",
       " '    Parameters',\n",
       " '    ----------',\n",
       " '    values: values to compute from',\n",
       " '    ref_id: delta values are computed with respect to that reference. It should be valid index or a list of valid',\n",
       " '     index from values.',\n",
       " '',\n",
       " '    Returns',\n",
       " '    -------',\n",
       " '',\n",
       " '    \"\"\"',\n",
       " '    # ref_values = _get_ref_values(values, ref_id)',\n",
       " '    # return values - ref_values',\n",
       " '    pass']"
      ]
     },
     "execution_count": 35,
     "metadata": {},
     "output_type": "execute_result"
    }
   ],
   "source": [
    "cleaned"
   ]
  },
  {
   "cell_type": "code",
   "execution_count": 14,
   "id": "ed03fad9-4e7a-4f06-8580-9f5e5a270c57",
   "metadata": {},
   "outputs": [
    {
     "data": {
      "text/plain": [
       "['from typing import Iterable, Optional',\n",
       " '',\n",
       " '',\n",
       " 'def function1(arg1: str):',\n",
       " '    \"\"\"',\n",
       " '    AZrojrltndflg lejkkjntgdf',\n",
       " '',\n",
       " '    Parameters',\n",
       " '    ----------',\n",
       " '    arg1 : str',\n",
       " '        Test',\n",
       " '',\n",
       " '    Returns',\n",
       " '    -------',\n",
       " '',\n",
       " '    \"\"\"',\n",
       " '    pass',\n",
       " '',\n",
       " '',\n",
       " '    \"\"\"',\n",
       " '    A function doing something',\n",
       " '    ',\n",
       " '    ',\n",
       " '    Second paragraph.',\n",
       " '    ',\n",
       " '    Third paragraph',\n",
       " '',\n",
       " '    Parameters',\n",
       " '    ----------',\n",
       " '    arg1 : list',\n",
       " '    \"\"\"',\n",
       " '    pass',\n",
       " '',\n",
       " '',\n",
       " '    \"\"\"',\n",
       " '',\n",
       " '    Parameters',\n",
       " '    ----------',\n",
       " '    arg1 : Optional[Iterable]',\n",
       " '',\n",
       " '    Returns',\n",
       " '    -------',\n",
       " '    dict',\n",
       " '',\n",
       " '    \"\"\"',\n",
       " '    \"\"\"',\n",
       " '    pass',\n",
       " '',\n",
       " '    \"\"\"',\n",
       " '',\n",
       " '    Parameters',\n",
       " '    ----------',\n",
       " '    arg1 : Optional[Iterable]',\n",
       " '        This does that',\n",
       " '',\n",
       " '    Returns',\n",
       " '    -------',\n",
       " '    dict',\n",
       " '',\n",
       " '    \"\"\"',\n",
       " '',\n",
       " '    \"\"\"',\n",
       " '    pass',\n",
       " '',\n",
       " '    \"\"\"',\n",
       " '    Compute the difference of values with respect to ref_id.',\n",
       " '',\n",
       " '    Parameters',\n",
       " '    ----------',\n",
       " '    values : Union[pd.DataFrame, pd.Series]',\n",
       " '        Values to compute from',\n",
       " '    ref_id: delta values are computed with respect to that reference. It should be valid index or a list of valid',\n",
       " '    index from values.',\n",
       " '    -------',\n",
       " '     index from values.',\n",
       " '    -------',\n",
       " '',\n",
       " '    \"\"\"',\n",
       " '    # ref_values = _get_ref_values(values, ref_id)',\n",
       " '    # return values - ref_values',\n",
       " '    pass',\n",
       " '',\n",
       " '    \"\"\"',\n",
       " '    Compute the difference of values with respect to ref_id.',\n",
       " '',\n",
       " '    Parameters',\n",
       " '    ----------',\n",
       " '    values : Union[pd.DataFrame, pd.Series]',\n",
       " '        Values to compute from',\n",
       " '    ref_id: delta values are computed with respect to that reference. It should be valid index or a list of valid',\n",
       " '    index from values.',\n",
       " '',\n",
       " '    Returns',\n",
       " '    -------',\n",
       " '    Union[pd.DataFrame, pd.Series]',\n",
       " '',\n",
       " '    \"\"\"',\n",
       " '    Returns',\n",
       " '    -------',\n",
       " '',\n",
       " '    \"\"\"',\n",
       " '    # ref_values = _get_ref_values(values, ref_id)',\n",
       " '    # return values - ref_values',\n",
       " '    pass']"
      ]
     },
     "execution_count": 14,
     "metadata": {},
     "output_type": "execute_result"
    }
   ],
   "source": [
    "script.clean()"
   ]
  },
  {
   "cell_type": "code",
   "execution_count": 9,
   "id": "e5caa9e8-6c2c-499e-80d7-1f382640c246",
   "metadata": {},
   "outputs": [
    {
     "data": {
      "text/plain": [
       "[Docstring(function=<ast.FunctionDef object at 0x000001B056387BB0>, lines=['    \"\"\"', '    AZrojrltndflg lejkkjntgdf', '', '    Parameters', '    ----------', '    arg1: test', '', '    Returns', '    -------', '', '    \"\"\"'], start=4, length=11, offset='    ', sections=[Section(name='Summary', type=<SectionType.SUMMARY: 2>, start=0, length=3, offset='    ', lines=['    \"\"\"', '    AZrojrltndflg lejkkjntgdf', ''], annotation=None, corrected_lines=None), Section(name='Parameters', type=<SectionType.PARAMETER_DELIMITER: 4>, start=3, length=2, offset='    ', lines=['    Parameters', '    ----------'], annotation=None, corrected_lines=None), Section(name='arg1', type=<SectionType.ARG: 1>, start=5, length=2, offset='    ', lines=['    arg1: test', ''], annotation='str', corrected_lines=None), Section(name='Returns', type=<SectionType.RETURNS: 3>, start=7, length=4, offset='    ', lines=['    Returns', '    -------', '', '    \"\"\"'], annotation=None, corrected_lines=None)]),\n",
       " Docstring(function=<ast.FunctionDef object at 0x000001B056386740>, lines=['    \"\"\"A function doing something', '', '', '    Second paragraph.', '    ', '    Third paragraph', '    Parameters', '    ----------', '    arg1 (list): This does something', '', '    \"\"\"'], start=19, length=11, offset='    ', sections=[Section(name='Summary', type=<SectionType.SUMMARY: 2>, start=0, length=6, offset='    ', lines=['    \"\"\"A function doing something', '', '', '    Second paragraph.', '    ', '    Third paragraph'], annotation=None, corrected_lines=None), Section(name='Parameters', type=<SectionType.PARAMETER_DELIMITER: 4>, start=6, length=2, offset='    ', lines=['    Parameters', '    ----------'], annotation=None, corrected_lines=None), Section(name='arg1', type=<SectionType.ARG: 1>, start=8, length=3, offset='    ', lines=['    arg1 (list): This does something', '', '    \"\"\"'], annotation='list', corrected_lines=None)]),\n",
       " Docstring(function=<ast.FunctionDef object at 0x000001B056386560>, lines=['    \"\"\"', '', '    Parameters', '    ----------', '    arg1', '', '    Returns', '    -------', '', '    \"\"\"'], start=34, length=10, offset='    ', sections=[Section(name='Summary', type=<SectionType.SUMMARY: 2>, start=0, length=2, offset='    ', lines=['    \"\"\"', ''], annotation=None, corrected_lines=None), Section(name='Parameters', type=<SectionType.PARAMETER_DELIMITER: 4>, start=2, length=2, offset='    ', lines=['    Parameters', '    ----------'], annotation=None, corrected_lines=None), Section(name='arg1', type=<SectionType.ARG: 1>, start=4, length=2, offset='    ', lines=['    arg1', ''], annotation='Optional[Iterable]', corrected_lines=None), Section(name='Returns', type=<SectionType.RETURNS: 3>, start=6, length=4, offset='    ', lines=['    Returns', '    -------', '', '    \"\"\"'], annotation='dict', corrected_lines=None)]),\n",
       " Docstring(function=<ast.FunctionDef object at 0x000001B056386FB0>, lines=['    \"\"\"', '', '    Parameters', '    ----------', '    arg1: this does that', '', '    Returns', '    -------', '', '    \"\"\"'], start=48, length=10, offset='    ', sections=[Section(name='Summary', type=<SectionType.SUMMARY: 2>, start=0, length=2, offset='    ', lines=['    \"\"\"', ''], annotation=None, corrected_lines=None), Section(name='Parameters', type=<SectionType.PARAMETER_DELIMITER: 4>, start=2, length=2, offset='    ', lines=['    Parameters', '    ----------'], annotation=None, corrected_lines=None), Section(name='arg1', type=<SectionType.ARG: 1>, start=4, length=2, offset='    ', lines=['    arg1: this does that', ''], annotation='Optional[Iterable]', corrected_lines=None), Section(name='Returns', type=<SectionType.RETURNS: 3>, start=6, length=4, offset='    ', lines=['    Returns', '    -------', '', '    \"\"\"'], annotation='dict', corrected_lines=None)]),\n",
       " Docstring(function=<ast.FunctionDef object at 0x000001B056386CE0>, lines=['    \"\"\"Compute the difference of values with respect to ref_id.', '', '    Parameters', '    ----------', '    values: values to compute from', '    ref_id: delta values are computed with respect to that reference. It should be valid index or a list of valid', '     index from values.', '    -------', '', '    \"\"\"'], start=64, length=10, offset='    ', sections=[Section(name='Summary', type=<SectionType.SUMMARY: 2>, start=0, length=2, offset='    ', lines=['    \"\"\"Compute the difference of values with respect to ref_id.', ''], annotation=None, corrected_lines=None), Section(name='Parameters', type=<SectionType.PARAMETER_DELIMITER: 4>, start=2, length=2, offset='    ', lines=['    Parameters', '    ----------'], annotation=None, corrected_lines=None), Section(name='values', type=<SectionType.ARG: 1>, start=4, length=1, offset='    ', lines=['    values: values to compute from'], annotation='Union[pd.DataFrame, pd.Series]', corrected_lines=None), Section(name='ref_id', type=<SectionType.ARG: 1>, start=5, length=5, offset='    ', lines=['    ref_id: delta values are computed with respect to that reference. It should be valid index or a list of valid', '     index from values.', '    -------', '', '    \"\"\"'], annotation=None, corrected_lines=None)]),\n",
       " Docstring(function=<ast.FunctionDef object at 0x000001B056402A40>, lines=['    \"\"\"Compute the difference of values with respect to ref_id.', '', '    Parameters', '    ----------', '    values: values to compute from', '    ref_id: delta values are computed with respect to that reference. It should be valid index or a list of valid', '     index from values.', '', '    Returns', '    -------', '', '    \"\"\"'], start=82, length=12, offset='    ', sections=[Section(name='Summary', type=<SectionType.SUMMARY: 2>, start=0, length=2, offset='    ', lines=['    \"\"\"Compute the difference of values with respect to ref_id.', ''], annotation=None, corrected_lines=None), Section(name='Parameters', type=<SectionType.PARAMETER_DELIMITER: 4>, start=2, length=2, offset='    ', lines=['    Parameters', '    ----------'], annotation=None, corrected_lines=None), Section(name='values', type=<SectionType.ARG: 1>, start=4, length=1, offset='    ', lines=['    values: values to compute from'], annotation='Union[pd.DataFrame, pd.Series]', corrected_lines=None), Section(name='ref_id', type=<SectionType.ARG: 1>, start=5, length=3, offset='    ', lines=['    ref_id: delta values are computed with respect to that reference. It should be valid index or a list of valid', '     index from values.', ''], annotation=None, corrected_lines=None), Section(name='Returns', type=<SectionType.RETURNS: 3>, start=8, length=4, offset='    ', lines=['    Returns', '    -------', '', '    \"\"\"'], annotation='Union[pd.DataFrame, pd.Series]', corrected_lines=None)])]"
      ]
     },
     "execution_count": 9,
     "metadata": {},
     "output_type": "execute_result"
    }
   ],
   "source": [
    "script.docstrings"
   ]
  }
 ],
 "metadata": {
  "kernelspec": {
   "display_name": "Python 3 (ipykernel)",
   "language": "python",
   "name": "python3"
  },
  "language_info": {
   "codemirror_mode": {
    "name": "ipython",
    "version": 3
   },
   "file_extension": ".py",
   "mimetype": "text/x-python",
   "name": "python",
   "nbconvert_exporter": "python",
   "pygments_lexer": "ipython3",
   "version": "3.10.6"
  }
 },
 "nbformat": 4,
 "nbformat_minor": 5
}
