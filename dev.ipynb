{
 "cells": [
  {
   "cell_type": "code",
   "execution_count": 10,
   "id": "041beeba-2a28-4510-a512-036bf9662362",
   "metadata": {},
   "outputs": [
    {
     "name": "stdout",
     "output_type": "stream",
     "text": [
      "The autoreload extension is already loaded. To reload it, use:\n",
      "  %reload_ext autoreload\n"
     ]
    }
   ],
   "source": [
    "%load_ext autoreload\n",
    "%autoreload 2\n",
    "\n",
    "import ast\n",
    "from pathlib import Path\n",
    "from pprint import pprint"
   ]
  },
  {
   "cell_type": "code",
   "execution_count": 11,
   "id": "5cf0e47a-e95f-4b34-8bb7-45918418f1d8",
   "metadata": {},
   "outputs": [],
   "source": [
    "from docstring_format import *\n",
    "from docstring_format.base import *\n",
    "from docstring_format.constants import *\n",
    "import json"
   ]
  },
  {
   "cell_type": "code",
   "execution_count": 2,
   "id": "2413ada8-be80-4e6c-a6de-3e1d6f6b026b",
   "metadata": {},
   "outputs": [],
   "source": [
    "# file = Path('equation_parser/functions.py')\n",
    "file = Path('./tests/dummy_tests_functions.py')\n",
    "\n",
    "raw_text = file.read_text()\n",
    "dirty_lines = raw_text.splitlines()\n",
    "tree = ast.parse(raw_text)\n",
    "\n",
    "classes = [item for item in tree.body if isinstance(item, ast.ClassDef)]\n",
    "class_methods = [func for item in classes for func in item.body if isinstance(func, ast.FunctionDef)]\n",
    "functions = [item for item in tree.body if isinstance(item, ast.FunctionDef)]"
   ]
  },
  {
   "cell_type": "code",
   "execution_count": 7,
   "id": "6b70abcc-86e4-4a3c-9f80-3935025982f1",
   "metadata": {},
   "outputs": [],
   "source": [
    "from dataclasses import dataclass"
   ]
  },
  {
   "cell_type": "code",
   "execution_count": 48,
   "id": "94395e01-8fba-485a-ab0f-af49499b7d6e",
   "metadata": {},
   "outputs": [],
   "source": [
    "@dataclass\n",
    "class Sections:\n",
    "    summary_text: str\n",
    "    param_delimiter: str\n",
    "    parameters_text: str\n",
    "    return_delimiter: str\n",
    "    returns_text: str\n",
    "\n",
    "@dataclass\n",
    "class Parameter:\n",
    "    name: str\n",
    "    annotation: str\n",
    "    \n",
    "@dataclass\n",
    "class Docstring:\n",
    "    function: ast.FunctionDef\n",
    "    arguments: list[str]\n",
    "    docstring_text: str\n",
    "    sections: Sections\n",
    "    start: int\n",
    "    length: int"
   ]
  },
  {
   "cell_type": "code",
   "execution_count": 49,
   "id": "617e6d24-40c9-43de-a7f2-c210353b0b07",
   "metadata": {},
   "outputs": [],
   "source": [
    "def get_docstring_sections(docstring, style: DocstringStyle = DocstringStyle.NUMPY) -> Optional[DocstringSection]:\n",
    "    \"\"\"Parse the docstring to get sections.\n",
    "\n",
    "    Sections are defined as :\n",
    "     - summary (everything until the parameters definition).\n",
    "     - a parameter param_delimiter (depending of the writing style of the docstring)\n",
    "     - the parameters\"\"\"\n",
    "    param_token = PARAMETERS_DELIMITERS_REGEX[style]\n",
    "    return_token = RETURNS_DELIMITERS_REGEX[style]\n",
    "    pattern = re.compile('(?P<summary_text>.*)'\n",
    "                         f'(?P<param_delimiter>{param_token})'\n",
    "                         f'(?P<parameters_text>((?!{return_token}).)*)'  # negative lookahead of return token\n",
    "                         f'(?P<return_delimiter>{return_token})?'\n",
    "                         f'(?P<returns_text>.*)?',\n",
    "                         flags=re.S)\n",
    "    match = re.search(pattern, docstring)\n",
    "    if match:\n",
    "        return Sections(**match.groupdict())"
   ]
  },
  {
   "cell_type": "code",
   "execution_count": 50,
   "id": "52f30dc2-8a86-48cf-84b0-51fe092715a8",
   "metadata": {},
   "outputs": [
    {
     "data": {
      "text/plain": [
       "[Parameter(name='arg1', annotation='str')]"
      ]
     },
     "execution_count": 50,
     "metadata": {},
     "output_type": "execute_result"
    }
   ],
   "source": []
  },
  {
   "cell_type": "code",
   "execution_count": 52,
   "id": "ed7a96f8-957d-4e5c-8b20-786841fe4162",
   "metadata": {},
   "outputs": [],
   "source": [
    "docstrings = []\n",
    "for func in functions:\n",
    "    start, length = get_docstring_lines(func, dirty_lines)\n",
    "    docstring = get_docstring_from_position(dirty_lines, start, length)\n",
    "    sections = get_docstring_sections(docstring)\n",
    "    \n",
    "    docstrings.append(\n",
    "        Docstring(function=func, \n",
    "                  docstring_text=docstring, \n",
    "                  start=start,\n",
    "                  length=length, \n",
    "                  sections=sections,\n",
    "                  arguments=[Parameter(name=arg.arg, annotation=parse_annotation(arg)) for arg in func.args.args])\n",
    "    )"
   ]
  },
  {
   "cell_type": "code",
   "execution_count": 53,
   "id": "b030f84c-e362-404a-9026-bbd0d1dcdc6e",
   "metadata": {},
   "outputs": [
    {
     "data": {
      "text/plain": [
       "[Docstring(function=<ast.FunctionDef object at 0x0000026463342920>, arguments=[Parameter(name='arg1', annotation='str')], docstring_text='    \"\"\"\\n    AZrojrltndflg lejkkjntgdf\\n\\n    Parameters\\n    ----------\\n    arg1: test\\n\\n    Returns\\n    -------\\n\\n    \"\"\"', sections=Sections(summary_text='    \"\"\"\\n    AZrojrltndflg lejkkjntgdf\\n\\n    ', param_delimiter='Parameters\\n    ----------\\n', parameters_text='    arg1: test\\n\\n    ', return_delimiter='Returns\\n    -------\\n', returns_text='\\n    \"\"\"'), start=4, length=11),\n",
       " Docstring(function=<ast.FunctionDef object at 0x0000026463342860>, arguments=[Parameter(name='arg1', annotation='list')], docstring_text='    \"\"\"A function doing something\\n\\n\\n    Second paragraph.\\n    \\n    Third paragraph\\n    Parameters\\n    ----------\\n    arg1 (list): This does something\\n\\n    \"\"\"', sections=Sections(summary_text='    \"\"\"A function doing something\\n\\n\\n    Second paragraph.\\n    \\n    Third paragraph\\n    ', param_delimiter='Parameters\\n    ----------\\n', parameters_text='    arg1 (list): This does something\\n\\n    \"\"\"', return_delimiter=None, returns_text=''), start=19, length=11),\n",
       " Docstring(function=<ast.FunctionDef object at 0x0000026463340550>, arguments=[Parameter(name='arg1', annotation='Optional[Iterable]')], docstring_text='    \"\"\"\\n\\n    Parameters\\n    ----------\\n    arg1\\n\\n    Returns\\n    -------\\n\\n    \"\"\"', sections=Sections(summary_text='    \"\"\"\\n\\n    ', param_delimiter='Parameters\\n    ----------\\n', parameters_text='    arg1\\n\\n    ', return_delimiter='Returns\\n    -------\\n', returns_text='\\n    \"\"\"'), start=34, length=10),\n",
       " Docstring(function=<ast.FunctionDef object at 0x0000026463342AD0>, arguments=[Parameter(name='arg1', annotation='Optional[Iterable]'), Parameter(name='arg2', annotation='Optional[tuple]')], docstring_text='    \"\"\"\\n\\n    Parameters\\n    ----------\\n    arg1: this does that\\n\\n    Returns\\n    -------\\n\\n    \"\"\"', sections=Sections(summary_text='    \"\"\"\\n\\n    ', param_delimiter='Parameters\\n    ----------\\n', parameters_text='    arg1: this does that\\n\\n    ', return_delimiter='Returns\\n    -------\\n', returns_text='\\n    \"\"\"'), start=48, length=10),\n",
       " Docstring(function=<ast.FunctionDef object at 0x0000026463357CA0>, arguments=[Parameter(name='values', annotation='Union[pd.DataFrame, pd.Series]'), Parameter(name='ref_id', annotation=None)], docstring_text='    \"\"\"Compute the difference of values with respect to ref_id.\\n\\n    Parameters\\n    ----------\\n    values: values to compute from\\n    ref_id: delta values are computed with respect to that reference. It should be valid index or a list of valid\\n     index from values.\\n    -------\\n\\n    \"\"\"', sections=Sections(summary_text='    \"\"\"Compute the difference of values with respect to ref_id.\\n\\n    ', param_delimiter='Parameters\\n    ----------\\n', parameters_text='    values: values to compute from\\n    ref_id: delta values are computed with respect to that reference. It should be valid index or a list of valid\\n     index from values.\\n    -------\\n\\n    \"\"\"', return_delimiter=None, returns_text=''), start=64, length=10),\n",
       " Docstring(function=<ast.FunctionDef object at 0x00000264633570A0>, arguments=[Parameter(name='values', annotation='Union[pd.DataFrame, pd.Series]'), Parameter(name='ref_id', annotation=None)], docstring_text='    \"\"\"Compute the difference of values with respect to ref_id.\\n\\n    Parameters\\n    ----------\\n    values: values to compute from\\n    ref_id: delta values are computed with respect to that reference. It should be valid index or a list of valid\\n     index from values.\\n\\n    Returns\\n    -------\\n\\n    \"\"\"', sections=Sections(summary_text='    \"\"\"Compute the difference of values with respect to ref_id.\\n\\n    ', param_delimiter='Parameters\\n    ----------\\n', parameters_text='    values: values to compute from\\n    ref_id: delta values are computed with respect to that reference. It should be valid index or a list of valid\\n     index from values.\\n\\n    ', return_delimiter='Returns\\n    -------\\n', returns_text='\\n    \"\"\"'), start=82, length=12)]"
      ]
     },
     "execution_count": 53,
     "metadata": {},
     "output_type": "execute_result"
    }
   ],
   "source": [
    "docstrings"
   ]
  },
  {
   "cell_type": "code",
   "execution_count": 42,
   "id": "f8c7c57a-2a62-48ec-806f-2607082160fc",
   "metadata": {},
   "outputs": [
    {
     "data": {
      "text/plain": [
       "['    arg1: test\\n\\n    ',\n",
       " '    arg1 (list): This does something\\n\\n    \"\"\"',\n",
       " '    arg1\\n\\n    ',\n",
       " '    arg1: this does that\\n\\n    ',\n",
       " '    values: values to compute from\\n    ref_id: delta values are computed with respect to that reference. It should be valid index or a list of valid\\n     index from values.\\n    -------\\n\\n    \"\"\"',\n",
       " '    values: values to compute from\\n    ref_id: delta values are computed with respect to that reference. It should be valid index or a list of valid\\n     index from values.\\n\\n    ']"
      ]
     },
     "execution_count": 42,
     "metadata": {},
     "output_type": "execute_result"
    }
   ],
   "source": [
    "[doc.sections.parameters_text for doc in docstrings]"
   ]
  },
  {
   "cell_type": "code",
   "execution_count": null,
   "id": "57562d70-4d2c-44b9-8962-1e90bfb98abe",
   "metadata": {},
   "outputs": [],
   "source": []
  }
 ],
 "metadata": {
  "kernelspec": {
   "display_name": "Python 3 (ipykernel)",
   "language": "python",
   "name": "python3"
  },
  "language_info": {
   "codemirror_mode": {
    "name": "ipython",
    "version": 3
   },
   "file_extension": ".py",
   "mimetype": "text/x-python",
   "name": "python",
   "nbconvert_exporter": "python",
   "pygments_lexer": "ipython3",
   "version": "3.10.6"
  }
 },
 "nbformat": 4,
 "nbformat_minor": 5
}
