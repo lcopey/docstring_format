{
 "cells": [
  {
   "cell_type": "code",
   "execution_count": 100,
   "id": "f5c8c1c9-0457-4946-a7ed-a14a0c24b3bf",
   "metadata": {},
   "outputs": [
    {
     "name": "stdout",
     "output_type": "stream",
     "text": [
      "The autoreload extension is already loaded. To reload it, use:\n",
      "  %reload_ext autoreload\n"
     ]
    }
   ],
   "source": [
    "%load_ext autoreload\n",
    "%autoreload 2\n",
    "\n",
    "import ast\n",
    "from pathlib import Path\n",
    "from pprint import pprint\n",
    "from dataclasses import asdict"
   ]
  },
  {
   "cell_type": "code",
   "execution_count": 101,
   "id": "0cec266f-b670-4f6a-8984-099cdeee5228",
   "metadata": {},
   "outputs": [],
   "source": [
    "from docstring_format import *\n",
    "from docstring_format.base import *\n",
    "from docstring_format.utils import *\n",
    "import json"
   ]
  },
  {
   "cell_type": "code",
   "execution_count": 121,
   "id": "57537328-9364-42d2-afb8-acdcf6a10574",
   "metadata": {},
   "outputs": [],
   "source": [
    "file_path = './tests/dummy_tests_functions.py'\n",
    "file = Path(file_path)\n",
    "raw_text = file.read_text()\n",
    "lines = raw_text.splitlines()"
   ]
  },
  {
   "cell_type": "code",
   "execution_count": 122,
   "id": "7cb0423e-e86f-4c6b-87ee-b56a44f9cfa6",
   "metadata": {},
   "outputs": [],
   "source": [
    "results = {}"
   ]
  },
  {
   "cell_type": "code",
   "execution_count": 123,
   "id": "4be9da4b-7b6a-44a1-b5e2-7f825718fe86",
   "metadata": {},
   "outputs": [],
   "source": [
    "functions = get_functions(raw_text)\n",
    "results['get_functions'] = [func.name for func in functions]"
   ]
  },
  {
   "cell_type": "code",
   "execution_count": 124,
   "id": "b2241abb-2f22-4251-af0b-64813f46b6df",
   "metadata": {},
   "outputs": [],
   "source": [
    "docstrings = [Docstring.from_ast(func, lines) for func in functions]\n",
    "\n",
    "results['get_docstring_start_and_length'] = \\\n",
    "    [(docstring.start, docstring.length)\n",
    "     for docstring in docstrings]"
   ]
  },
  {
   "cell_type": "code",
   "execution_count": 125,
   "id": "a2700792-036b-4520-bbdc-d220b090fb71",
   "metadata": {},
   "outputs": [],
   "source": [
    "sections = [parse_sections(func, lines) for func in functions]\n",
    "results['parse_sections'] = [asdict(section) for item in sections for section in item]"
   ]
  },
  {
   "cell_type": "code",
   "execution_count": 126,
   "id": "320a28bc-390b-46d8-bc77-3a15b5101ce0",
   "metadata": {},
   "outputs": [],
   "source": [
    "# remove function attribute from test\n",
    "results['docstrings'] = [{k: v for k, v in asdict(docstring).items() if k != 'function'}\n",
    "                         for docstring in docstrings]"
   ]
  },
  {
   "cell_type": "code",
   "execution_count": 127,
   "id": "dda1db59-61c3-47b3-8662-33fbd74fd927",
   "metadata": {},
   "outputs": [],
   "source": [
    "results['sections_cleaned'] = [section.cleaned for item in sections for section in item]"
   ]
  },
  {
   "cell_type": "code",
   "execution_count": 130,
   "id": "a002ab97-53a5-445e-835b-f8675c2f8877",
   "metadata": {},
   "outputs": [],
   "source": [
    "results['docstrings_cleaned'] = [docstring.cleaned for docstring in docstrings]"
   ]
  },
  {
   "cell_type": "code",
   "execution_count": 136,
   "id": "ffc61fc2-7582-4981-80b2-090958429944",
   "metadata": {},
   "outputs": [],
   "source": [
    "script = ScriptFile(file_path)\n",
    "results['script_cleaned']= script.cleaned"
   ]
  },
  {
   "cell_type": "markdown",
   "id": "1e3715a9-da16-4415-b39f-065e7ca29143",
   "metadata": {
    "tags": []
   },
   "source": [
    "# write results"
   ]
  },
  {
   "cell_type": "code",
   "execution_count": 137,
   "id": "26a1dbed-809f-47db-88b6-195ec43721ce",
   "metadata": {},
   "outputs": [],
   "source": [
    "with open('./tests/dummy_test_functions_results.json', mode='w') as f:\n",
    "    json.dump(results, f, indent=4, default=str)"
   ]
  },
  {
   "cell_type": "code",
   "execution_count": null,
   "id": "a7cf2542-a651-488d-a588-583a742e7086",
   "metadata": {},
   "outputs": [],
   "source": []
  },
  {
   "cell_type": "markdown",
   "id": "dc90d796-e944-436b-b8f9-0dadaf14c844",
   "metadata": {},
   "source": [
    "# load from json"
   ]
  },
  {
   "cell_type": "code",
   "execution_count": 97,
   "id": "9a7f1286-e113-4ff6-809a-283fb2427d18",
   "metadata": {},
   "outputs": [],
   "source": [
    "with open('./tests/dummy_test_functions_results.json', mode='r') as f:\n",
    "    results = json.load(f)\n",
    "\n",
    "section_map = {str(item): item for item in SectionType}\n",
    "\n",
    "for item in results['parse_sections']:\n",
    "    item['type'] = section_map[item['type']]\n",
    "    \n",
    "for item in results['docstrings']:\n",
    "    for section in item['sections']:\n",
    "        section['type'] = section_map[section['type']]"
   ]
  }
 ],
 "metadata": {
  "kernelspec": {
   "display_name": "Python 3 (ipykernel)",
   "language": "python",
   "name": "python3"
  },
  "language_info": {
   "codemirror_mode": {
    "name": "ipython",
    "version": 3
   },
   "file_extension": ".py",
   "mimetype": "text/x-python",
   "name": "python",
   "nbconvert_exporter": "python",
   "pygments_lexer": "ipython3",
   "version": "3.10.6"
  }
 },
 "nbformat": 4,
 "nbformat_minor": 5
}
